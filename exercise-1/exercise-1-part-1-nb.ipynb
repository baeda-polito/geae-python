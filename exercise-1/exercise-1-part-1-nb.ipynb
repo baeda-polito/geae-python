{
 "cells": [
  {
   "cell_type": "markdown",
   "id": "50d48f5a7b306997",
   "metadata": {},
   "source": [
    "**Gestione Energetica ed Automazione negli Edifici (GEAE) A.A. 2024/2025**\n",
    "\n",
    "*Tutto il materiale didattico messo a disposizione degli studenti (compresi script, markdown, presentazioni, video e Virtual Classroom) è da utilizzarsi esclusivamente per scopi didattici e nell’ambito del corso di “gestione energetica e automazione negli edifici”. È vietata ogni forma di utilizzo diverso, redistribuzione e pubblicazione on line. Per ogni eventuale dubbio o richiesta contattare il titolare del corso prof. Alfonso Capozzoli a alfonso.capozzoli@polito.it*\n",
    "\n",
    "# Exercise 1 - Part 1: Introduction to Python\n",
    "\n",
    "## Variables and Data Types\n",
    "Assigning values to variables.\n",
    "This code demonstrates how to assign values to different data types in Python. We have the following variables:\n",
    "- `temperature`: an integer representing temperature in Celsius.\n",
    "- `pressure`: a float representing atmospheric pressure in bars.\n",
    "- `gas`: a string representing the type of gas (in this case, \"Methane\").\n",
    "- `system_operational`: a boolean indicating whether the system is operational."
   ]
  },
  {
   "cell_type": "code",
   "execution_count": 1,
   "id": "be93514ba2968831",
   "metadata": {
    "ExecuteTime": {
     "end_time": "2024-10-09T13:34:43.973238Z",
     "start_time": "2024-10-09T13:34:43.968131Z"
    }
   },
   "outputs": [
    {
     "name": "stdout",
     "output_type": "stream",
     "text": [
      "The temperature is: 25 °C\n",
      "The pressure is: 1.01325 bar\n",
      "The type of gas is: Methane\n",
      "Is the system operational? True\n"
     ]
    }
   ],
   "source": [
    "temperature = 25  # integer\n",
    "pressure = 1.01325  # float (floating-point number)\n",
    "gas = \"Methane\"  # string\n",
    "system_operational = True  # boolean\n",
    "\n",
    "print(\"The temperature is:\", temperature, \"°C\")\n",
    "print(\"The pressure is:\", pressure, \"bar\")\n",
    "print(\"The type of gas is:\", gas)\n",
    "print(\"Is the system operational?\", system_operational)\n"
   ]
  },
  {
   "cell_type": "markdown",
   "id": "18ab5a6e146271b3",
   "metadata": {},
   "source": [
    "## Mathematical Operations\n",
    "\n",
    "Define mass and velocity"
   ]
  },
  {
   "cell_type": "code",
   "execution_count": 2,
   "id": "46996899d28fbe9a",
   "metadata": {
    "ExecuteTime": {
     "end_time": "2024-10-09T13:34:43.978008Z",
     "start_time": "2024-10-09T13:34:43.974245Z"
    }
   },
   "outputs": [],
   "source": [
    "mass = 10  # kg\n",
    "velocity = 5  # m/s"
   ]
  },
  {
   "cell_type": "markdown",
   "id": "f5765e9fbb0b0162",
   "metadata": {},
   "source": [
    "Calculate the kinetic energy of the object."
   ]
  },
  {
   "cell_type": "code",
   "execution_count": 3,
   "id": "12dd756652f6c1f7",
   "metadata": {
    "ExecuteTime": {
     "end_time": "2024-10-09T13:34:43.985864Z",
     "start_time": "2024-10-09T13:34:43.982426Z"
    }
   },
   "outputs": [],
   "source": [
    "kinetic_energy = 0.5 * mass * velocity ** 2"
   ]
  },
  {
   "cell_type": "markdown",
   "id": "1b15e8748949f366",
   "metadata": {},
   "source": [
    "## User Input\n",
    "\n",
    "Ask the user to enter the height of an object"
   ]
  },
  {
   "cell_type": "code",
   "execution_count": 4,
   "id": "f96966da6210cf89",
   "metadata": {
    "ExecuteTime": {
     "end_time": "2024-10-09T13:34:46.689367Z",
     "start_time": "2024-10-09T13:34:43.997870Z"
    }
   },
   "outputs": [],
   "source": [
    "mass = 10  # kg (ensure mass is defined for potential energy calculation)\n",
    "height = float(input(\"Enter the height in meters: \"))\n",
    "gravity = 9.81  # m/s^2\n",
    "potential_energy = mass * gravity * height"
   ]
  },
  {
   "cell_type": "code",
   "execution_count": 5,
   "id": "4a025590c711152e",
   "metadata": {
    "ExecuteTime": {
     "end_time": "2024-10-09T13:34:46.701945Z",
     "start_time": "2024-10-09T13:34:46.692377Z"
    }
   },
   "outputs": [
    {
     "name": "stdout",
     "output_type": "stream",
     "text": [
      "The potential energy of the object is: 784.8000000000001 Joules\n"
     ]
    }
   ],
   "source": [
    "print(\"The potential energy of the object is:\", potential_energy, \"Joules\")"
   ]
  },
  {
   "cell_type": "markdown",
   "id": "7e1509860d39cf4c",
   "metadata": {},
   "source": [
    "## Conditional Statements\n",
    "\n",
    "Conditional statements help control the flow of a program based on conditions. For example, checking the state of water based on its temperature:"
   ]
  },
  {
   "cell_type": "code",
   "execution_count": 6,
   "id": "52374c4672136303",
   "metadata": {
    "ExecuteTime": {
     "end_time": "2024-10-09T13:34:46.710368Z",
     "start_time": "2024-10-09T13:34:46.703953Z"
    }
   },
   "outputs": [
    {
     "name": "stdout",
     "output_type": "stream",
     "text": [
      "At 30 °C, water is in the liquid state.\n"
     ]
    }
   ],
   "source": [
    "water_temperature = 30\n",
    "\n",
    "if water_temperature <= 0:\n",
    "    state = \"solid (ice)\"\n",
    "elif water_temperature >= 100:\n",
    "    state = \"gaseous (steam)\"\n",
    "else:\n",
    "    state = \"liquid\"\n",
    "\n",
    "print(f\"At {water_temperature} °C, water is in the {state} state.\")"
   ]
  },
  {
   "cell_type": "markdown",
   "id": "d12bb0830a6cb099",
   "metadata": {},
   "source": [
    "This code allows you to determine the state of water based on temperature input, which can be useful in automation systems to determine operational states."
   ]
  },
  {
   "cell_type": "markdown",
   "id": "58e29a112f69763a",
   "metadata": {},
   "source": [
    "## Lists\n",
    "\n",
    "A list is an ordered and mutable collection of items. Lists are useful for storing multiple related values. For example:"
   ]
  },
  {
   "cell_type": "code",
   "execution_count": 7,
   "id": "a42afb096c53fb16",
   "metadata": {
    "ExecuteTime": {
     "end_time": "2024-10-09T13:34:46.733988Z",
     "start_time": "2024-10-09T13:34:46.726383Z"
    }
   },
   "outputs": [
    {
     "name": "stdout",
     "output_type": "stream",
     "text": [
      "Daily temperatures: [20, 22, 24, 23, 25, 21, 19]\n"
     ]
    }
   ],
   "source": [
    "daily_temperatures = [20, 22, 24, 23, 25, 21, 19]  # list of integers\n",
    "print(\"Daily temperatures:\", daily_temperatures)"
   ]
  },
  {
   "cell_type": "markdown",
   "id": "1ff4691d7d0204b9",
   "metadata": {},
   "source": [
    "You can access elements using their index, modify elements, and add new elements. Lists are very flexible and are often used to handle collections of data such as sensor readings or control commands. \n",
    "\n",
    "Accessing elements of a list:"
   ]
  },
  {
   "cell_type": "code",
   "execution_count": 8,
   "id": "16dd7c9fc8e5a573",
   "metadata": {
    "ExecuteTime": {
     "end_time": "2024-10-09T13:34:46.755502Z",
     "start_time": "2024-10-09T13:34:46.752515Z"
    }
   },
   "outputs": [
    {
     "name": "stdout",
     "output_type": "stream",
     "text": [
      "The first temperature is: 20 °C\n"
     ]
    }
   ],
   "source": [
    "first_temperature = daily_temperatures[0]  # index 0\n",
    "print(\"The first temperature is:\", first_temperature, \"°C\")"
   ]
  },
  {
   "cell_type": "markdown",
   "id": "fac89003ac9d7951",
   "metadata": {},
   "source": [
    "Modifying elements of a list"
   ]
  },
  {
   "cell_type": "code",
   "execution_count": 9,
   "id": "e2d5a9aebc1172d4",
   "metadata": {
    "ExecuteTime": {
     "end_time": "2024-10-09T13:34:46.820249Z",
     "start_time": "2024-10-09T13:34:46.816396Z"
    }
   },
   "outputs": [
    {
     "name": "stdout",
     "output_type": "stream",
     "text": [
      "Updated list of temperatures: [20, 22, 26, 23, 25, 21, 19]\n"
     ]
    }
   ],
   "source": [
    "daily_temperatures[2] = 26\n",
    "print(\"Updated list of temperatures:\", daily_temperatures)"
   ]
  },
  {
   "cell_type": "markdown",
   "id": "ccf1f77954b607df",
   "metadata": {},
   "source": [
    "Adding an element to the list"
   ]
  },
  {
   "cell_type": "code",
   "execution_count": 10,
   "id": "41128fa8b4084193",
   "metadata": {
    "ExecuteTime": {
     "end_time": "2024-10-09T13:34:46.827362Z",
     "start_time": "2024-10-09T13:34:46.824256Z"
    }
   },
   "outputs": [
    {
     "name": "stdout",
     "output_type": "stream",
     "text": [
      "List of temperatures after adding a value: [20, 22, 26, 23, 25, 21, 19, 18]\n"
     ]
    }
   ],
   "source": [
    "daily_temperatures.append(18)\n",
    "print(\"List of temperatures after adding a value:\", daily_temperatures)"
   ]
  },
  {
   "cell_type": "markdown",
   "id": "d0040fa0c727293d",
   "metadata": {},
   "source": [
    "## Dictionaries\n",
    "\n",
    "Dictionaries store key-value pairs and are extremely useful for representing data that is inherently connected. For instance:"
   ]
  },
  {
   "cell_type": "code",
   "execution_count": 11,
   "id": "dd236b4c9afdf5c1",
   "metadata": {
    "ExecuteTime": {
     "end_time": "2024-10-09T13:34:46.841307Z",
     "start_time": "2024-10-09T13:34:46.835609Z"
    }
   },
   "outputs": [
    {
     "name": "stdout",
     "output_type": "stream",
     "text": [
      "Properties of Methane: {'Molar Mass': 16.04, 'Boiling Point': -161.5}\n"
     ]
    }
   ],
   "source": [
    "gas_properties = {\n",
    "    \"Methane\": {\"Molar Mass\": 16.04, \"Boiling Point\": -161.5},\n",
    "    \"Ethane\": {\"Molar Mass\": 30.07, \"Boiling Point\": -88.6},\n",
    "    \"Propane\": {\"Molar Mass\": 44.10, \"Boiling Point\": -42.1}\n",
    "}\n",
    "\n",
    "print(\"Properties of Methane:\", gas_properties[\"Methane\"])"
   ]
  },
  {
   "cell_type": "markdown",
   "id": "ef277eeda93a867f",
   "metadata": {},
   "source": [
    "Adding a new element to the dictionary"
   ]
  },
  {
   "cell_type": "code",
   "execution_count": 12,
   "id": "ef66ad2da13d0133",
   "metadata": {
    "ExecuteTime": {
     "end_time": "2024-10-09T13:34:46.852056Z",
     "start_time": "2024-10-09T13:34:46.848757Z"
    }
   },
   "outputs": [
    {
     "name": "stdout",
     "output_type": "stream",
     "text": [
      "Updated gas properties dictionary: {'Methane': {'Molar Mass': 16.04, 'Boiling Point': -161.5}, 'Ethane': {'Molar Mass': 30.07, 'Boiling Point': -88.6}, 'Propane': {'Molar Mass': 44.1, 'Boiling Point': -42.1}, 'Butane': {'Molar Mass': 58.12, 'Boiling Point': -0.5}}\n"
     ]
    }
   ],
   "source": [
    "gas_properties[\"Butane\"] = {\"Molar Mass\": 58.12, \"Boiling Point\": -0.5}\n",
    "print(\"Updated gas properties dictionary:\", gas_properties)"
   ]
  },
  {
   "cell_type": "markdown",
   "id": "f6d5f2bdf2b929d1",
   "metadata": {},
   "source": [
    "### Loops\n",
    "\n",
    "Loops are used to iterate over collections of data, such as lists or dictionaries. A `for` loop is particularly useful when you need to perform repetitive tasks.\n",
    "\n",
    "For example, iterating over a list:"
   ]
  },
  {
   "cell_type": "code",
   "execution_count": 13,
   "id": "7b821dc73feb7d64",
   "metadata": {
    "ExecuteTime": {
     "end_time": "2024-10-09T13:34:46.893366Z",
     "start_time": "2024-10-09T13:34:46.890329Z"
    }
   },
   "outputs": [
    {
     "name": "stdout",
     "output_type": "stream",
     "text": [
      "List of daily temperatures:\n",
      "20 °C\n",
      "22 °C\n",
      "26 °C\n",
      "23 °C\n",
      "25 °C\n",
      "21 °C\n",
      "19 °C\n",
      "18 °C\n"
     ]
    }
   ],
   "source": [
    "print(\"List of daily temperatures:\")\n",
    "for temp in daily_temperatures:\n",
    "    print(temp, \"°C\")"
   ]
  },
  {
   "cell_type": "markdown",
   "id": "9cb90ad96cbd867d",
   "metadata": {},
   "source": [
    "You can also iterate through a dictionary to access both keys and values, which is useful for displaying information or performing calculations on multiple components."
   ]
  },
  {
   "cell_type": "code",
   "execution_count": 14,
   "id": "2a2f1fcf35a1e812",
   "metadata": {
    "ExecuteTime": {
     "end_time": "2024-10-09T13:34:46.912437Z",
     "start_time": "2024-10-09T13:34:46.909374Z"
    }
   },
   "outputs": [
    {
     "name": "stdout",
     "output_type": "stream",
     "text": [
      "List of gas properties:\n",
      "Methane: Molar Mass = 16.04 g/mol, Boiling Point = -161.5 °C\n",
      "Ethane: Molar Mass = 30.07 g/mol, Boiling Point = -88.6 °C\n",
      "Propane: Molar Mass = 44.1 g/mol, Boiling Point = -42.1 °C\n",
      "Butane: Molar Mass = 58.12 g/mol, Boiling Point = -0.5 °C\n"
     ]
    }
   ],
   "source": [
    "print(\"List of gas properties:\")\n",
    "for gas, properties in gas_properties.items():\n",
    "    print(f\"{gas}: Molar Mass = {properties['Molar Mass']} g/mol, Boiling Point = {properties['Boiling Point']} °C\")"
   ]
  },
  {
   "cell_type": "markdown",
   "id": "2ad09f5744d96bb5",
   "metadata": {},
   "source": [
    "## Functions\n",
    "\n",
    "Functions allow you to encapsulate code into reusable blocks. For example, defining a function to calculate specific heat capacity:"
   ]
  },
  {
   "cell_type": "code",
   "execution_count": 15,
   "id": "5f1d4c9c96a4dc1",
   "metadata": {
    "ExecuteTime": {
     "end_time": "2024-10-09T13:34:46.918882Z",
     "start_time": "2024-10-09T13:34:46.915474Z"
    }
   },
   "outputs": [
    {
     "name": "stdout",
     "output_type": "stream",
     "text": [
      "The specific heat capacity of the object is: 500.0 J/(kg·K)\n"
     ]
    }
   ],
   "source": [
    "def specific_heat_capacity(mass, heat_capacity):\n",
    "    \"\"\"\n",
    "    Calculates the specific heat capacity.\n",
    "    mass: mass of the object in kg\n",
    "    heat_capacity: heat capacity in J/K\n",
    "    \"\"\"\n",
    "    c = heat_capacity / mass\n",
    "    return c\n",
    "\n",
    "object_mass = 5  # kg\n",
    "heat_capacity = 2500  # J/K\n",
    "\n",
    "c = specific_heat_capacity(object_mass, heat_capacity)\n",
    "print(\"The specific heat capacity of the object is:\", c, \"J/(kg·K)\")"
   ]
  },
  {
   "cell_type": "markdown",
   "id": "f8c9094be7808bd0",
   "metadata": {},
   "source": [
    "This function takes mass, energy, and temperature change as arguments and returns the specific heat capacity. Functions make code more modular, readable, and reusable.\n",
    "\n",
    "## Libraries\n",
    "\n",
    "Python provides a wide variety of built-in libraries to extend its capabilities. For example, the `math` library allows for complex mathematical operations:"
   ]
  },
  {
   "cell_type": "code",
   "execution_count": 16,
   "id": "89acac7949eafe9c",
   "metadata": {
    "ExecuteTime": {
     "end_time": "2024-10-09T13:34:46.929290Z",
     "start_time": "2024-10-09T13:34:46.919890Z"
    }
   },
   "outputs": [
    {
     "name": "stdout",
     "output_type": "stream",
     "text": [
      "The natural logarithm of 10 is: 2.302585092994046\n"
     ]
    }
   ],
   "source": [
    "import math\n",
    "\n",
    "# Calculating the natural logarithm\n",
    "number = 10\n",
    "logarithm = math.log(number)\n",
    "print(\"The natural logarithm of\", number, \"is:\", logarithm)"
   ]
  }
 ],
 "metadata": {
  "author": "BAEDA Lab - Politecnico di Torino",
  "date": "October 11, 2024",
  "kernelspec": {
   "display_name": "Python 3 (ipykernel)",
   "language": "python",
   "name": "python3"
  },
  "language_info": {
   "codemirror_mode": {
    "name": "ipython",
    "version": 3
   },
   "file_extension": ".py",
   "mimetype": "text/x-python",
   "name": "python",
   "nbconvert_exporter": "python",
   "pygments_lexer": "ipython3",
   "version": "3.12.0"
  },
  "title": "Exercise 1 - Part 1: Introduction to Python"
 },
 "nbformat": 4,
 "nbformat_minor": 5
}
