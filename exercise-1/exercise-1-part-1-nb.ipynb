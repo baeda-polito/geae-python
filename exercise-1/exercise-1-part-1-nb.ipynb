{
 "cells": [
  {
   "cell_type": "markdown",
   "id": "50d48f5a7b306997",
   "metadata": {},
   "source": [
    "### Gestione Energetica ed Automazione negli Edifici (GEAE) A.A. 2024/2025\n",
    "\n",
    "*Tutto il materiale didattico messo a disposizione degli studenti (compresi script, markdown, presentazioni, video e Virtual Classroom) è da utilizzarsi esclusivamente per scopi didattici e nell’ambito del corso di “gestione energetica e automazione negli edifici”. È vietata ogni forma di utilizzo diverso, redistribuzione e pubblicazione on line. Per ogni eventuale dubbio o richiesta contattare il titolare del corso prof. Alfonso Capozzoli a alfonso.capozzoli@polito.it*\n",
    "\n",
    "# Exercise 1 - Part 1: Introduction to Python\n",
    "\n",
    "### Variables and Data Types\n",
    "Assigning values to variables"
   ]
  },
  {
   "cell_type": "code",
   "id": "be93514ba2968831",
   "metadata": {
    "ExecuteTime": {
     "end_time": "2024-10-04T06:35:49.559464Z",
     "start_time": "2024-10-04T06:35:49.547841Z"
    }
   },
   "source": [
    "temperature = 25  # integer\n",
    "pressure = 1.01325  # float (floating-point number)\n",
    "gas = \"Methane\"  # string\n",
    "system_operational = True  # boolean\n",
    "\n",
    "print(\"The temperature is:\", temperature, \"°C\")\n",
    "print(\"The pressure is:\", pressure, \"bar\")\n",
    "print(\"The type of gas is:\", gas)\n",
    "print(\"Is the system operational?\", system_operational)\n"
   ],
   "outputs": [
    {
     "name": "stdout",
     "output_type": "stream",
     "text": [
      "The temperature is: 25 °C\n",
      "The pressure is: 1.01325 bar\n",
      "The type of gas is: Methane\n",
      "Is the system operational? True\n"
     ]
    }
   ],
   "execution_count": 1
  },
  {
   "cell_type": "markdown",
   "id": "18ab5a6e146271b3",
   "metadata": {},
   "source": [
    "### Mathematical Operations\n",
    "\n",
    "Define mass and velocity"
   ]
  },
  {
   "cell_type": "code",
   "id": "46996899d28fbe9a",
   "metadata": {
    "ExecuteTime": {
     "end_time": "2024-10-04T06:35:49.585885Z",
     "start_time": "2024-10-04T06:35:49.563975Z"
    }
   },
   "source": [
    "mass = 10  # kg\n",
    "velocity = 5  # m/s"
   ],
   "outputs": [],
   "execution_count": 2
  },
  {
   "cell_type": "markdown",
   "id": "f5765e9fbb0b0162",
   "metadata": {},
   "source": [
    "Calculate the kinetic energy of the object"
   ]
  },
  {
   "cell_type": "code",
   "id": "12dd756652f6c1f7",
   "metadata": {
    "ExecuteTime": {
     "end_time": "2024-10-04T06:35:49.600200Z",
     "start_time": "2024-10-04T06:35:49.585885Z"
    }
   },
   "source": [
    "kinetic_energy = 0.5 * mass * velocity ** 2"
   ],
   "outputs": [],
   "execution_count": 3
  },
  {
   "cell_type": "markdown",
   "id": "1b15e8748949f366",
   "metadata": {},
   "source": [
    "### User Input\n",
    "\n",
    "Ask the user to enter the height of an object"
   ]
  },
  {
   "cell_type": "code",
   "id": "f96966da6210cf89",
   "metadata": {
    "ExecuteTime": {
     "end_time": "2024-10-04T06:35:51.768804Z",
     "start_time": "2024-10-04T06:35:49.600200Z"
    }
   },
   "source": [
    "mass = 10  # kg (ensure mass is defined for potential energy calculation)\n",
    "height = float(input(\"Enter the height in meters: \"))\n",
    "gravity = 9.81  # m/s^2\n",
    "potential_energy = mass * gravity * height"
   ],
   "outputs": [],
   "execution_count": 4
  },
  {
   "cell_type": "code",
   "id": "4a025590c711152e",
   "metadata": {
    "ExecuteTime": {
     "end_time": "2024-10-04T06:35:51.774350Z",
     "start_time": "2024-10-04T06:35:51.770066Z"
    }
   },
   "source": [
    "print(\"The potential energy of the object is:\", potential_energy, \"Joules\")"
   ],
   "outputs": [
    {
     "name": "stdout",
     "output_type": "stream",
     "text": [
      "The potential energy of the object is: 784.8000000000001 Joules\n"
     ]
    }
   ],
   "execution_count": 5
  },
  {
   "cell_type": "markdown",
   "id": "7e1509860d39cf4c",
   "metadata": {},
   "source": [
    "### Conditional Statements\n",
    "\n",
    "Check the state of water based on its temperature"
   ]
  },
  {
   "cell_type": "code",
   "id": "52374c4672136303",
   "metadata": {
    "ExecuteTime": {
     "end_time": "2024-10-04T06:35:51.792399Z",
     "start_time": "2024-10-04T06:35:51.774350Z"
    }
   },
   "source": [
    "water_temperature = 30\n",
    "\n",
    "if water_temperature <= 0:\n",
    "    state = \"solid (ice)\"\n",
    "elif water_temperature >= 100:\n",
    "    state = \"gaseous (steam)\"\n",
    "else:\n",
    "    state = \"liquid\"\n",
    "\n",
    "print(f\"At {water_temperature} °C, water is in the {state} state.\")"
   ],
   "outputs": [
    {
     "name": "stdout",
     "output_type": "stream",
     "text": [
      "At 30 °C, water is in the liquid state.\n"
     ]
    }
   ],
   "execution_count": 6
  },
  {
   "cell_type": "markdown",
   "id": "58e29a112f69763a",
   "metadata": {},
   "source": [
    "### Lists\n",
    "\n",
    "A list is an ordered and mutable collection of items"
   ]
  },
  {
   "cell_type": "code",
   "id": "a42afb096c53fb16",
   "metadata": {
    "ExecuteTime": {
     "end_time": "2024-10-04T06:35:51.801487Z",
     "start_time": "2024-10-04T06:35:51.792399Z"
    }
   },
   "source": [
    "daily_temperatures = [20, 22, 24, 23, 25, 21, 19]  # list of integers\n",
    "print(\"Daily temperatures:\", daily_temperatures)"
   ],
   "outputs": [
    {
     "name": "stdout",
     "output_type": "stream",
     "text": [
      "Daily temperatures: [20, 22, 24, 23, 25, 21, 19]\n"
     ]
    }
   ],
   "execution_count": 7
  },
  {
   "cell_type": "markdown",
   "id": "1ff4691d7d0204b9",
   "metadata": {},
   "source": [
    "Accessing elements of a list"
   ]
  },
  {
   "cell_type": "code",
   "id": "16dd7c9fc8e5a573",
   "metadata": {
    "ExecuteTime": {
     "end_time": "2024-10-04T06:35:51.811913Z",
     "start_time": "2024-10-04T06:35:51.801487Z"
    }
   },
   "source": [
    "first_temperature = daily_temperatures[0]  # index 0\n",
    "print(\"The first temperature is:\", first_temperature, \"°C\")"
   ],
   "outputs": [
    {
     "name": "stdout",
     "output_type": "stream",
     "text": [
      "The first temperature is: 20 °C\n"
     ]
    }
   ],
   "execution_count": 8
  },
  {
   "metadata": {},
   "cell_type": "markdown",
   "source": "Modifying elements of a list",
   "id": "fac89003ac9d7951"
  },
  {
   "metadata": {
    "ExecuteTime": {
     "end_time": "2024-10-04T06:35:51.817263Z",
     "start_time": "2024-10-04T06:35:51.811913Z"
    }
   },
   "cell_type": "code",
   "source": [
    "daily_temperatures[2] = 26\n",
    "print(\"Updated list of temperatures:\", daily_temperatures)"
   ],
   "id": "e2d5a9aebc1172d4",
   "outputs": [
    {
     "name": "stdout",
     "output_type": "stream",
     "text": [
      "Updated list of temperatures: [20, 22, 26, 23, 25, 21, 19]\n"
     ]
    }
   ],
   "execution_count": 9
  },
  {
   "metadata": {},
   "cell_type": "markdown",
   "source": "Adding an element to the list",
   "id": "ccf1f77954b607df"
  },
  {
   "metadata": {
    "ExecuteTime": {
     "end_time": "2024-10-04T06:35:51.822948Z",
     "start_time": "2024-10-04T06:35:51.817263Z"
    }
   },
   "cell_type": "code",
   "source": [
    "daily_temperatures.append(18)\n",
    "print(\"List of temperatures after adding a value:\", daily_temperatures)"
   ],
   "id": "41128fa8b4084193",
   "outputs": [
    {
     "name": "stdout",
     "output_type": "stream",
     "text": [
      "List of temperatures after adding a value: [20, 22, 26, 23, 25, 21, 19, 18]\n"
     ]
    }
   ],
   "execution_count": 10
  },
  {
   "metadata": {},
   "cell_type": "markdown",
   "source": [
    "### Dictionaries\n",
    "\n",
    "A dictionary is an unordered collection of key-value pairs"
   ],
   "id": "d0040fa0c727293d"
  },
  {
   "metadata": {
    "ExecuteTime": {
     "end_time": "2024-10-04T06:35:51.828228Z",
     "start_time": "2024-10-04T06:35:51.822948Z"
    }
   },
   "cell_type": "code",
   "source": [
    "gas_properties = {\n",
    "    \"Methane\": {\"Molar Mass\": 16.04, \"Boiling Point\": -161.5},\n",
    "    \"Ethane\": {\"Molar Mass\": 30.07, \"Boiling Point\": -88.6},\n",
    "    \"Propane\": {\"Molar Mass\": 44.10, \"Boiling Point\": -42.1}\n",
    "}\n",
    "\n",
    "print(\"Properties of Methane:\", gas_properties[\"Methane\"])"
   ],
   "id": "dd236b4c9afdf5c1",
   "outputs": [
    {
     "name": "stdout",
     "output_type": "stream",
     "text": [
      "Properties of Methane: {'Molar Mass': 16.04, 'Boiling Point': -161.5}\n"
     ]
    }
   ],
   "execution_count": 11
  },
  {
   "metadata": {},
   "cell_type": "markdown",
   "source": "Adding a new element to the dictionary",
   "id": "ef277eeda93a867f"
  },
  {
   "metadata": {
    "ExecuteTime": {
     "end_time": "2024-10-04T06:35:51.833021Z",
     "start_time": "2024-10-04T06:35:51.828228Z"
    }
   },
   "cell_type": "code",
   "source": [
    "gas_properties[\"Butane\"] = {\"Molar Mass\": 58.12, \"Boiling Point\": -0.5}\n",
    "print(\"Updated gas properties dictionary:\", gas_properties)"
   ],
   "id": "ef66ad2da13d0133",
   "outputs": [
    {
     "name": "stdout",
     "output_type": "stream",
     "text": [
      "Updated gas properties dictionary: {'Methane': {'Molar Mass': 16.04, 'Boiling Point': -161.5}, 'Ethane': {'Molar Mass': 30.07, 'Boiling Point': -88.6}, 'Propane': {'Molar Mass': 44.1, 'Boiling Point': -42.1}, 'Butane': {'Molar Mass': 58.12, 'Boiling Point': -0.5}}\n"
     ]
    }
   ],
   "execution_count": 12
  },
  {
   "metadata": {},
   "cell_type": "markdown",
   "source": [
    "### Loops\n",
    "\n",
    "Using a for loop to iterate over a list"
   ],
   "id": "f6d5f2bdf2b929d1"
  },
  {
   "metadata": {
    "ExecuteTime": {
     "end_time": "2024-10-04T06:35:51.837758Z",
     "start_time": "2024-10-04T06:35:51.833021Z"
    }
   },
   "cell_type": "code",
   "source": [
    "print(\"List of daily temperatures:\")\n",
    "for temp in daily_temperatures:\n",
    "    print(temp, \"°C\")"
   ],
   "id": "7b821dc73feb7d64",
   "outputs": [
    {
     "name": "stdout",
     "output_type": "stream",
     "text": [
      "List of daily temperatures:\n",
      "20 °C\n",
      "22 °C\n",
      "26 °C\n",
      "23 °C\n",
      "25 °C\n",
      "21 °C\n",
      "19 °C\n",
      "18 °C\n"
     ]
    }
   ],
   "execution_count": 13
  },
  {
   "metadata": {},
   "cell_type": "markdown",
   "source": "Using a for loop with dictionaries",
   "id": "9cb90ad96cbd867d"
  },
  {
   "metadata": {
    "ExecuteTime": {
     "end_time": "2024-10-04T06:35:51.843167Z",
     "start_time": "2024-10-04T06:35:51.837758Z"
    }
   },
   "cell_type": "code",
   "source": [
    "print(\"List of gas properties:\")\n",
    "for gas, properties in gas_properties.items():\n",
    "    print(f\"{gas}: Molar Mass = {properties['Molar Mass']} g/mol, Boiling Point = {properties['Boiling Point']} °C\")"
   ],
   "id": "2a2f1fcf35a1e812",
   "outputs": [
    {
     "name": "stdout",
     "output_type": "stream",
     "text": [
      "List of gas properties:\n",
      "Methane: Molar Mass = 16.04 g/mol, Boiling Point = -161.5 °C\n",
      "Ethane: Molar Mass = 30.07 g/mol, Boiling Point = -88.6 °C\n",
      "Propane: Molar Mass = 44.1 g/mol, Boiling Point = -42.1 °C\n",
      "Butane: Molar Mass = 58.12 g/mol, Boiling Point = -0.5 °C\n"
     ]
    }
   ],
   "execution_count": 14
  },
  {
   "metadata": {},
   "cell_type": "markdown",
   "source": [
    "### Functions\n",
    "\n",
    "Defining a function to calculate specific heat capacity"
   ],
   "id": "2ad09f5744d96bb5"
  },
  {
   "metadata": {
    "ExecuteTime": {
     "end_time": "2024-10-04T06:35:51.848317Z",
     "start_time": "2024-10-04T06:35:51.843167Z"
    }
   },
   "cell_type": "code",
   "source": [
    "def specific_heat_capacity(mass, heat_capacity):\n",
    "    \"\"\"\n",
    "    Calculates the specific heat capacity.\n",
    "    mass: mass of the object in kg\n",
    "    heat_capacity: heat capacity in J/K\n",
    "    \"\"\"\n",
    "    c = heat_capacity / mass\n",
    "    return c\n",
    "\n",
    "object_mass = 5  # kg\n",
    "heat_capacity = 2500  # J/K\n",
    "\n",
    "c = specific_heat_capacity(object_mass, heat_capacity)\n",
    "print(\"The specific heat capacity of the object is:\", c, \"J/(kg·K)\")"
   ],
   "id": "5f1d4c9c96a4dc1",
   "outputs": [
    {
     "name": "stdout",
     "output_type": "stream",
     "text": [
      "The specific heat capacity of the object is: 500.0 J/(kg·K)\n"
     ]
    }
   ],
   "execution_count": 15
  },
  {
   "metadata": {},
   "cell_type": "markdown",
   "source": [
    "### Libraries\n",
    "\n",
    "Using the math library to calculate the square root"
   ],
   "id": "f8c9094be7808bd0"
  },
  {
   "metadata": {
    "ExecuteTime": {
     "end_time": "2024-10-04T06:35:51.853255Z",
     "start_time": "2024-10-04T06:35:51.848317Z"
    }
   },
   "cell_type": "code",
   "source": [
    "import math\n",
    "\n",
    "# Calculating the natural logarithm\n",
    "number = 10\n",
    "logarithm = math.log(number)\n",
    "print(\"The natural logarithm of\", number, \"is:\", logarithm)"
   ],
   "id": "89acac7949eafe9c",
   "outputs": [
    {
     "name": "stdout",
     "output_type": "stream",
     "text": [
      "The natural logarithm of 10 is: 2.302585092994046\n"
     ]
    }
   ],
   "execution_count": 16
  }
 ],
 "metadata": {
  "kernelspec": {
   "display_name": "Python 3 (ipykernel)",
   "language": "python",
   "name": "python3"
  },
  "language_info": {
   "codemirror_mode": {
    "name": "ipython",
    "version": 3
   },
   "file_extension": ".py",
   "mimetype": "text/x-python",
   "name": "python",
   "nbconvert_exporter": "python",
   "pygments_lexer": "ipython3",
   "version": "3.12.0"
  }
 },
 "nbformat": 4,
 "nbformat_minor": 5
}
