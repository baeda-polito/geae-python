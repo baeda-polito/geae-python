{
 "cells": [
  {
   "cell_type": "markdown",
   "id": "b06d7ec0cab7e148",
   "metadata": {},
   "source": [
    "**Gestione Energetica ed Automazione negli Edifici (GEAE) A.A. 2024/2025**\n",
    "\n",
    "*Tutto il materiale didattico messo a disposizione degli studenti (compresi script, markdown, presentazioni, video e Virtual Classroom) è da utilizzarsi esclusivamente per scopi didattici e nell’ambito del corso di “gestione energetica e automazione negli edifici”. È vietata ogni forma di utilizzo diverso, redistribuzione e pubblicazione on line. Per ogni eventuale dubbio o richiesta contattare il titolare del corso prof. Alfonso Capozzoli a alfonso.capozzoli@polito.it*\n",
    "\n",
    "# Introduction to Numpy\n",
    "\n",
    "## Importing Numpy\n",
    "In this section, we import the NumPy library, which is fundamental for numerical computing in Python. NumPy provides efficient data structures, such as arrays, that can be used to perform mathematical operations easily and efficiently. Importing NumPy is the first step to leverage its powerful features for energy analysis and automation tasks."
   ]
  },
  {
   "cell_type": "code",
   "id": "3f9774322761f284",
   "metadata": {
    "ExecuteTime": {
     "end_time": "2024-10-09T14:14:23.118471Z",
     "start_time": "2024-10-09T14:14:22.926303Z"
    }
   },
   "source": "import numpy as np",
   "outputs": [],
   "execution_count": 1
  },
  {
   "cell_type": "markdown",
   "id": "888502429b781ef6",
   "metadata": {},
   "source": [
    "## Creating NumPy Arrays\n",
    "Creating arrays in NumPy is crucial because they are the primary data structure used for storing and manipulating numerical data. In this section, we create a 1D array (vector) that holds temperature values in Celsius. This example helps to introduce basic array creation, demonstrating the simplicity and efficiency of working with numerical data in NumPy compared to standard Python lists."
   ]
  },
  {
   "cell_type": "code",
   "id": "123bdf545830fff9",
   "metadata": {
    "ExecuteTime": {
     "end_time": "2024-10-09T14:14:23.127263Z",
     "start_time": "2024-10-09T14:14:23.119477Z"
    }
   },
   "source": [
    "temperatures_celsius = np.array([20, 25, 30, 35, 40])\n",
    "print(\"Temperatures in Celsius:\", temperatures_celsius)"
   ],
   "outputs": [
    {
     "name": "stdout",
     "output_type": "stream",
     "text": [
      "Temperatures in Celsius: [20 25 30 35 40]\n"
     ]
    }
   ],
   "execution_count": 2
  },
  {
   "cell_type": "markdown",
   "id": "45c8effb801f72b8",
   "metadata": {},
   "source": "Creating a 2D array (matrix) representing a grid of pressure values. This introduces higher-dimensional arrays, which are essential for representing more complex datasets, such as spatial grids or matrices that often arise in energy systems modeling."
  },
  {
   "cell_type": "code",
   "id": "b92c95c3a5c2d214",
   "metadata": {
    "ExecuteTime": {
     "end_time": "2024-10-09T14:14:23.147472Z",
     "start_time": "2024-10-09T14:14:23.133283Z"
    }
   },
   "source": [
    "pressures = np.array([\n",
    "    [1.0, 1.2, 1.4],\n",
    "    [1.1, 1.3, 1.5],\n",
    "    [1.2, 1.4, 1.6]\n",
    "])\n",
    "print(\"Pressure grid (bar):\\n\", pressures)"
   ],
   "outputs": [
    {
     "name": "stdout",
     "output_type": "stream",
     "text": [
      "Pressure grid (bar):\n",
      " [[1.  1.2 1.4]\n",
      " [1.1 1.3 1.5]\n",
      " [1.2 1.4 1.6]]\n"
     ]
    }
   ],
   "execution_count": 3
  },
  {
   "cell_type": "markdown",
   "id": "29b25e61909d007b",
   "metadata": {},
   "source": [
    "## Array Operations\n",
    "Converting temperatures from Celsius to Kelvin. Temperature values are converted from Celsius to Kelvin by applying a basic arithmetic operation directly to the entire NumPy array. This demonstrates the convenience of array-wide operations in NumPy, which is much faster and more readable than using loops to manipulate each element individually."
   ]
  },
  {
   "cell_type": "code",
   "id": "3f74d5c4cade1c51",
   "metadata": {
    "ExecuteTime": {
     "end_time": "2024-10-09T14:14:23.151596Z",
     "start_time": "2024-10-09T14:14:23.148476Z"
    }
   },
   "source": [
    "temperatures_kelvin = temperatures_celsius + 273.15\n",
    "print(\"Temperatures in Kelvin:\", temperatures_kelvin)"
   ],
   "outputs": [
    {
     "name": "stdout",
     "output_type": "stream",
     "text": [
      "Temperatures in Kelvin: [293.15 298.15 303.15 308.15 313.15]\n"
     ]
    }
   ],
   "execution_count": 4
  },
  {
   "cell_type": "markdown",
   "id": "930c2fe7031da76c",
   "metadata": {},
   "source": "Calculating the average temperature. The average temperature is calculated using NumPy's built-in functions. Statistical operations like average (mean) are important when analyzing datasets to identify general trends or patterns, such as average energy consumption or environmental temperatures."
  },
  {
   "cell_type": "code",
   "id": "cdb14cc1dcb9a672",
   "metadata": {
    "ExecuteTime": {
     "end_time": "2024-10-09T14:14:23.155109Z",
     "start_time": "2024-10-09T14:14:23.152601Z"
    }
   },
   "source": [
    "average_temperature = np.mean(temperatures_celsius)\n",
    "print(\"Average temperature (°C):\", average_temperature)"
   ],
   "outputs": [
    {
     "name": "stdout",
     "output_type": "stream",
     "text": [
      "Average temperature (°C): 30.0\n"
     ]
    }
   ],
   "execution_count": 5
  },
  {
   "cell_type": "markdown",
   "id": "3f735bb176674d3c",
   "metadata": {},
   "source": "Performing element-wise multiplication."
  },
  {
   "cell_type": "code",
   "id": "117dd851a2ef1845",
   "metadata": {
    "ExecuteTime": {
     "end_time": "2024-10-09T14:14:23.168231Z",
     "start_time": "2024-10-09T14:14:23.156122Z"
    }
   },
   "source": [
    "volumes = np.array([1.0, 1.5, 2.0, 2.5, 3.0])  # in cubic meters\n",
    "# Calculating the product of pressures and volumes (P*V)\n",
    "pv_product = pressures[0, 0] * volumes  # Using the first pressure value for simplicity\n",
    "print(\"P*V product:\", pv_product)\n"
   ],
   "outputs": [
    {
     "name": "stdout",
     "output_type": "stream",
     "text": [
      "P*V product: [1.  1.5 2.  2.5 3. ]\n"
     ]
    }
   ],
   "execution_count": 6
  },
  {
   "cell_type": "markdown",
   "id": "ceb07d71ea8d9fb4",
   "metadata": {},
   "source": [
    "## Multidimensional Arrays\n",
    "In this section, 3D arrays are introduced, which can be used to represent more complex data structures. The 3D array helps in understanding how to work with higher-dimensional data, which is often necessary in real-world energy management applications.\n",
    "Creating a 3D array representing energy consumption over time and different units:"
   ]
  },
  {
   "cell_type": "code",
   "id": "1e643111c1ac91db",
   "metadata": {
    "ExecuteTime": {
     "end_time": "2024-10-09T14:14:23.533315Z",
     "start_time": "2024-10-09T14:14:23.173250Z"
    }
   },
   "source": [
    "energy_consumption = np.random.rand(2, 3, 4)  # Random values for demonstration\n",
    "print(\"Energy consumption data:\\n\", energy_consumption)"
   ],
   "outputs": [
    {
     "name": "stdout",
     "output_type": "stream",
     "text": [
      "Energy consumption data:\n",
      " [[[0.59238517 0.00975617 0.22662193 0.55337929]\n",
      "  [0.82064181 0.8024685  0.20736114 0.853059  ]\n",
      "  [0.68841606 0.20352671 0.1569099  0.69020491]]\n",
      "\n",
      " [[0.02156481 0.81779626 0.85579201 0.87172155]\n",
      "  [0.91718953 0.47109075 0.91758818 0.18282847]\n",
      "  [0.93890796 0.00312793 0.28386865 0.94308346]]]\n"
     ]
    }
   ],
   "execution_count": 7
  },
  {
   "cell_type": "markdown",
   "id": "3d88535d9c6a6f19",
   "metadata": {},
   "source": [
    "## Indexing and Slicing\n",
    "Accessing elements in an array. Indexing is used to access specific elements in an array. This is fundamental for retrieving and analyzing data points, such as extracting a specific  value from a dataset."
   ]
  },
  {
   "cell_type": "code",
   "id": "329a1bcaabc83fda",
   "metadata": {
    "ExecuteTime": {
     "end_time": "2024-10-09T14:14:23.537264Z",
     "start_time": "2024-10-09T14:14:23.534325Z"
    }
   },
   "source": [
    "first_temperature = temperatures_celsius[0]\n",
    "print(\"First temperature (°C):\", first_temperature)"
   ],
   "outputs": [
    {
     "name": "stdout",
     "output_type": "stream",
     "text": [
      "First temperature (°C): 20\n"
     ]
    }
   ],
   "execution_count": 8
  },
  {
   "cell_type": "markdown",
   "id": "28c5c491c2b25e5",
   "metadata": {},
   "source": "Slicing arrays. Slicing is a powerful way to select sub-portions of an array. It allows for efficient manipulation of data, such as selecting data for a specific period or subset of sensors. Understanding slicing is key to managing and analyzing time-series data in energy systems."
  },
  {
   "cell_type": "code",
   "id": "6d8361d1437a1d12",
   "metadata": {
    "ExecuteTime": {
     "end_time": "2024-10-09T14:14:23.542248Z",
     "start_time": "2024-10-09T14:14:23.538271Z"
    }
   },
   "source": [
    "subset_temperatures = temperatures_celsius[1:4]\n",
    "print(\"Subset of temperatures (°C):\", subset_temperatures)"
   ],
   "outputs": [
    {
     "name": "stdout",
     "output_type": "stream",
     "text": [
      "Subset of temperatures (°C): [25 30 35]\n"
     ]
    }
   ],
   "execution_count": 9
  },
  {
   "cell_type": "markdown",
   "id": "72b2eae62f309171",
   "metadata": {},
   "source": "Accessing elements in a 2D array. Accessing elements in a 2D array demonstrates how to work with tabular data. For example, this could represent temperature measurements from multiple locations, where accessing a specific row or column helps to analyze trends at a particular site."
  },
  {
   "cell_type": "code",
   "id": "49b34285cb7dc674",
   "metadata": {
    "ExecuteTime": {
     "end_time": "2024-10-09T14:14:23.546791Z",
     "start_time": "2024-10-09T14:14:23.543257Z"
    }
   },
   "source": [
    "pressure_value = pressures[1, 2]\n",
    "print(\"Pressure at position (1,2) (bar):\", pressure_value)"
   ],
   "outputs": [
    {
     "name": "stdout",
     "output_type": "stream",
     "text": [
      "Pressure at position (1,2) (bar): 1.5\n"
     ]
    }
   ],
   "execution_count": 10
  },
  {
   "cell_type": "markdown",
   "id": "53f0c8755b423fce",
   "metadata": {},
   "source": [
    "## Mathematical Functions\n",
    "\n",
    "In this section, mathematical functions provided by NumPy are applied. These functions are essential tools for transforming data and performing necessary calculations."
   ]
  },
  {
   "cell_type": "code",
   "id": "e03be13cae03a33b",
   "metadata": {
    "ExecuteTime": {
     "end_time": "2024-10-09T14:14:23.552888Z",
     "start_time": "2024-10-09T14:14:23.547800Z"
    }
   },
   "source": [
    "radii = np.array([0.05, 0.1, 0.15])  # in meters\n",
    "areas = np.pi * radii ** 2  # Calculating areas of circles\n",
    "print(\"Areas of circles (m^2):\", areas)"
   ],
   "outputs": [
    {
     "name": "stdout",
     "output_type": "stream",
     "text": [
      "Areas of circles (m^2): [0.00785398 0.03141593 0.07068583]\n"
     ]
    }
   ],
   "execution_count": 11
  },
  {
   "cell_type": "markdown",
   "id": "8e4b29d4dd82a95b",
   "metadata": {},
   "source": [
    "## Statistical Functions\n",
    "Generating a dataset of measured temperatures with random noise"
   ]
  },
  {
   "cell_type": "code",
   "id": "5f3606e45a65015e",
   "metadata": {
    "ExecuteTime": {
     "end_time": "2024-10-09T14:14:23.557823Z",
     "start_time": "2024-10-09T14:14:23.554274Z"
    }
   },
   "source": [
    "measured_temperatures = temperatures_celsius + np.random.normal(0, 0.5, temperatures_celsius.shape)\n",
    "print(\"Measured temperatures (°C):\", measured_temperatures)"
   ],
   "outputs": [
    {
     "name": "stdout",
     "output_type": "stream",
     "text": [
      "Measured temperatures (°C): [19.56116205 24.99801458 29.76369492 34.49982659 40.06415976]\n"
     ]
    }
   ],
   "execution_count": 12
  },
  {
   "cell_type": "markdown",
   "id": "cf560635a5a17d08",
   "metadata": {},
   "source": [
    "Calculating standard deviation"
   ]
  },
  {
   "cell_type": "code",
   "id": "51c10ae9e3ef94eb",
   "metadata": {
    "ExecuteTime": {
     "end_time": "2024-10-09T14:14:23.562029Z",
     "start_time": "2024-10-09T14:14:23.558836Z"
    }
   },
   "source": [
    "std_dev = np.std(measured_temperatures)\n",
    "print(\"Standard deviation of measured temperatures (°C):\", std_dev)"
   ],
   "outputs": [
    {
     "name": "stdout",
     "output_type": "stream",
     "text": [
      "Standard deviation of measured temperatures (°C): 7.146089418486741\n"
     ]
    }
   ],
   "execution_count": 13
  }
 ],
 "metadata": {
  "author": "BAEDA Lab - Politecnico di Torino",
  "date": "October 11, 2024",
  "kernelspec": {
   "display_name": "Python 3 (ipykernel)",
   "language": "python",
   "name": "python3"
  },
  "language_info": {
   "codemirror_mode": {
    "name": "ipython",
    "version": 3
   },
   "file_extension": ".py",
   "mimetype": "text/x-python",
   "name": "python",
   "nbconvert_exporter": "python",
   "pygments_lexer": "ipython3",
   "version": "3.12.0"
  },
  "title": "Exercise 1 - Part 2: Introduction to Numpy"
 },
 "nbformat": 4,
 "nbformat_minor": 5
}
