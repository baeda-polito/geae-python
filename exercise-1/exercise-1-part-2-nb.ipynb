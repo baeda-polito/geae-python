{
 "cells": [
  {
   "cell_type": "markdown",
   "id": "b06d7ec0cab7e148",
   "metadata": {},
   "source": [
    "**Gestione Energetica ed Automazione negli Edifici (GEAE) A.A. 2024/2025**\n",
    "\n",
    "*Tutto il materiale didattico messo a disposizione degli studenti (compresi script, markdown, presentazioni, video e Virtual Classroom) è da utilizzarsi esclusivamente per scopi didattici e nell’ambito del corso di “gestione energetica e automazione negli edifici”. È vietata ogni forma di utilizzo diverso, redistribuzione e pubblicazione on line. Per ogni eventuale dubbio o richiesta contattare il titolare del corso prof. Alfonso Capozzoli a alfonso.capozzoli@polito.it*\n",
    "\n",
    "# Exercise 1 - Part 2: Introduction to Numpy\n",
    "\n",
    "### Importing Numpy"
   ]
  },
  {
   "cell_type": "code",
   "id": "3f9774322761f284",
   "metadata": {
    "ExecuteTime": {
     "end_time": "2024-10-04T06:33:15.048358Z",
     "start_time": "2024-10-04T06:33:14.712144Z"
    }
   },
   "source": "import numpy as np",
   "outputs": [],
   "execution_count": 1
  },
  {
   "cell_type": "markdown",
   "id": "888502429b781ef6",
   "metadata": {},
   "source": [
    "### Creating NumPy Arrays\n",
    "Creating a 1D array (vector) of temperatures in Celsius"
   ]
  },
  {
   "cell_type": "code",
   "id": "123bdf545830fff9",
   "metadata": {
    "ExecuteTime": {
     "end_time": "2024-10-04T06:33:15.057962Z",
     "start_time": "2024-10-04T06:33:15.048358Z"
    }
   },
   "source": [
    "temperatures_celsius = np.array([20, 25, 30, 35, 40])\n",
    "print(\"Temperatures in Celsius:\", temperatures_celsius)"
   ],
   "outputs": [
    {
     "name": "stdout",
     "output_type": "stream",
     "text": [
      "Temperatures in Celsius: [20 25 30 35 40]\n"
     ]
    }
   ],
   "execution_count": 2
  },
  {
   "cell_type": "markdown",
   "id": "45c8effb801f72b8",
   "metadata": {},
   "source": [
    "Creating a 2D array (matrix) representing a grid of pressure values"
   ]
  },
  {
   "cell_type": "code",
   "id": "b92c95c3a5c2d214",
   "metadata": {
    "ExecuteTime": {
     "end_time": "2024-10-04T06:33:15.071251Z",
     "start_time": "2024-10-04T06:33:15.060472Z"
    }
   },
   "source": [
    "pressures = np.array([\n",
    "    [1.0, 1.2, 1.4],\n",
    "    [1.1, 1.3, 1.5],\n",
    "    [1.2, 1.4, 1.6]\n",
    "])\n",
    "print(\"Pressure grid (bar):\\n\", pressures)"
   ],
   "outputs": [
    {
     "name": "stdout",
     "output_type": "stream",
     "text": [
      "Pressure grid (bar):\n",
      " [[1.  1.2 1.4]\n",
      " [1.1 1.3 1.5]\n",
      " [1.2 1.4 1.6]]\n"
     ]
    }
   ],
   "execution_count": 3
  },
  {
   "cell_type": "markdown",
   "id": "29b25e61909d007b",
   "metadata": {},
   "source": [
    "### Array Operations\n",
    "Converting temperatures from Celsius to Kelvin"
   ]
  },
  {
   "cell_type": "code",
   "id": "3f74d5c4cade1c51",
   "metadata": {
    "ExecuteTime": {
     "end_time": "2024-10-04T06:33:15.084238Z",
     "start_time": "2024-10-04T06:33:15.071251Z"
    }
   },
   "source": [
    "temperatures_kelvin = temperatures_celsius + 273.15\n",
    "print(\"Temperatures in Kelvin:\", temperatures_kelvin)"
   ],
   "outputs": [
    {
     "name": "stdout",
     "output_type": "stream",
     "text": [
      "Temperatures in Kelvin: [293.15 298.15 303.15 308.15 313.15]\n"
     ]
    }
   ],
   "execution_count": 4
  },
  {
   "cell_type": "markdown",
   "id": "930c2fe7031da76c",
   "metadata": {},
   "source": [
    "Calculating the average temperature"
   ]
  },
  {
   "cell_type": "code",
   "id": "cdb14cc1dcb9a672",
   "metadata": {
    "ExecuteTime": {
     "end_time": "2024-10-04T06:33:15.096167Z",
     "start_time": "2024-10-04T06:33:15.088003Z"
    }
   },
   "source": [
    "average_temperature = np.mean(temperatures_celsius)\n",
    "print(\"Average temperature (°C):\", average_temperature)"
   ],
   "outputs": [
    {
     "name": "stdout",
     "output_type": "stream",
     "text": [
      "Average temperature (°C): 30.0\n"
     ]
    }
   ],
   "execution_count": 5
  },
  {
   "cell_type": "markdown",
   "id": "3f735bb176674d3c",
   "metadata": {},
   "source": [
    "Performing element-wise multiplication"
   ]
  },
  {
   "cell_type": "code",
   "id": "117dd851a2ef1845",
   "metadata": {
    "ExecuteTime": {
     "end_time": "2024-10-04T06:33:15.109046Z",
     "start_time": "2024-10-04T06:33:15.097794Z"
    }
   },
   "source": [
    "volumes = np.array([1.0, 1.5, 2.0, 2.5, 3.0])  # in cubic meters\n",
    "# Calculating the product of pressures and volumes (P*V)\n",
    "pv_product = pressures[0, 0] * volumes  # Using the first pressure value for simplicity\n",
    "print(\"P*V product:\", pv_product)\n"
   ],
   "outputs": [
    {
     "name": "stdout",
     "output_type": "stream",
     "text": [
      "P*V product: [1.  1.5 2.  2.5 3. ]\n"
     ]
    }
   ],
   "execution_count": 6
  },
  {
   "cell_type": "markdown",
   "id": "ceb07d71ea8d9fb4",
   "metadata": {},
   "source": [
    "### Multidimensional Arrays\n",
    "Creating a 3D array representing energy consumption over time and different units"
   ]
  },
  {
   "cell_type": "code",
   "id": "1e643111c1ac91db",
   "metadata": {
    "ExecuteTime": {
     "end_time": "2024-10-04T06:33:15.376143Z",
     "start_time": "2024-10-04T06:33:15.109046Z"
    }
   },
   "source": [
    "energy_consumption = np.random.rand(2, 3, 4)  # Random values for demonstration\n",
    "print(\"Energy consumption data:\\n\", energy_consumption)"
   ],
   "outputs": [
    {
     "name": "stdout",
     "output_type": "stream",
     "text": [
      "Energy consumption data:\n",
      " [[[0.12247924 0.7865413  0.4915829  0.08602008]\n",
      "  [0.93864912 0.88723551 0.97559775 0.15794477]\n",
      "  [0.18343034 0.48066607 0.26998119 0.81388339]]\n",
      "\n",
      " [[0.06158287 0.44954503 0.1562408  0.94135357]\n",
      "  [0.27198635 0.3513866  0.88843777 0.36096384]\n",
      "  [0.81613803 0.42830857 0.92869505 0.21107959]]]\n"
     ]
    }
   ],
   "execution_count": 7
  },
  {
   "cell_type": "markdown",
   "id": "3d88535d9c6a6f19",
   "metadata": {},
   "source": [
    "### Indexing and Slicing\n",
    "Accessing elements in an array"
   ]
  },
  {
   "cell_type": "code",
   "id": "329a1bcaabc83fda",
   "metadata": {
    "ExecuteTime": {
     "end_time": "2024-10-04T06:33:15.383338Z",
     "start_time": "2024-10-04T06:33:15.377469Z"
    }
   },
   "source": [
    "first_temperature = temperatures_celsius[0]\n",
    "print(\"First temperature (°C):\", first_temperature)"
   ],
   "outputs": [
    {
     "name": "stdout",
     "output_type": "stream",
     "text": [
      "First temperature (°C): 20\n"
     ]
    }
   ],
   "execution_count": 8
  },
  {
   "cell_type": "markdown",
   "id": "28c5c491c2b25e5",
   "metadata": {},
   "source": [
    "Slicing arrays"
   ]
  },
  {
   "cell_type": "code",
   "id": "6d8361d1437a1d12",
   "metadata": {
    "ExecuteTime": {
     "end_time": "2024-10-04T06:33:15.400906Z",
     "start_time": "2024-10-04T06:33:15.383338Z"
    }
   },
   "source": [
    "subset_temperatures = temperatures_celsius[1:4]\n",
    "print(\"Subset of temperatures (°C):\", subset_temperatures)"
   ],
   "outputs": [
    {
     "name": "stdout",
     "output_type": "stream",
     "text": [
      "Subset of temperatures (°C): [25 30 35]\n"
     ]
    }
   ],
   "execution_count": 9
  },
  {
   "cell_type": "markdown",
   "id": "72b2eae62f309171",
   "metadata": {},
   "source": [
    "Accessing elements in a 2D array"
   ]
  },
  {
   "cell_type": "code",
   "id": "49b34285cb7dc674",
   "metadata": {
    "ExecuteTime": {
     "end_time": "2024-10-04T06:33:15.411089Z",
     "start_time": "2024-10-04T06:33:15.402916Z"
    }
   },
   "source": [
    "pressure_value = pressures[1, 2]\n",
    "print(\"Pressure at position (1,2) (bar):\", pressure_value)"
   ],
   "outputs": [
    {
     "name": "stdout",
     "output_type": "stream",
     "text": [
      "Pressure at position (1,2) (bar): 1.5\n"
     ]
    }
   ],
   "execution_count": 10
  },
  {
   "cell_type": "markdown",
   "id": "53f0c8755b423fce",
   "metadata": {},
   "source": "### Mathematical Functions\n"
  },
  {
   "cell_type": "code",
   "id": "e03be13cae03a33b",
   "metadata": {
    "ExecuteTime": {
     "end_time": "2024-10-04T06:33:15.421398Z",
     "start_time": "2024-10-04T06:33:15.412042Z"
    }
   },
   "source": [
    "radii = np.array([0.05, 0.1, 0.15])  # in meters\n",
    "areas = np.pi * radii ** 2  # Calculating areas of circles\n",
    "print(\"Areas of circles (m^2):\", areas)"
   ],
   "outputs": [
    {
     "name": "stdout",
     "output_type": "stream",
     "text": [
      "Areas of circles (m^2): [0.00785398 0.03141593 0.07068583]\n"
     ]
    }
   ],
   "execution_count": 11
  },
  {
   "cell_type": "markdown",
   "id": "8e4b29d4dd82a95b",
   "metadata": {},
   "source": [
    "### Statistical Functions\n",
    "Generating a dataset of measured temperatures with random noise"
   ]
  },
  {
   "cell_type": "code",
   "id": "5f3606e45a65015e",
   "metadata": {
    "ExecuteTime": {
     "end_time": "2024-10-04T06:33:15.430221Z",
     "start_time": "2024-10-04T06:33:15.421398Z"
    }
   },
   "source": [
    "measured_temperatures = temperatures_celsius + np.random.normal(0, 0.5, temperatures_celsius.shape)\n",
    "print(\"Measured temperatures (°C):\", measured_temperatures)"
   ],
   "outputs": [
    {
     "name": "stdout",
     "output_type": "stream",
     "text": [
      "Measured temperatures (°C): [19.04437072 24.34627217 29.6076911  34.51169174 40.94897854]\n"
     ]
    }
   ],
   "execution_count": 12
  },
  {
   "cell_type": "markdown",
   "id": "cf560635a5a17d08",
   "metadata": {},
   "source": [
    "Calculating standard deviation"
   ]
  },
  {
   "cell_type": "code",
   "id": "51c10ae9e3ef94eb",
   "metadata": {
    "ExecuteTime": {
     "end_time": "2024-10-04T06:33:15.438253Z",
     "start_time": "2024-10-04T06:33:15.430221Z"
    }
   },
   "source": [
    "std_dev = np.std(measured_temperatures)\n",
    "print(\"Standard deviation of measured temperatures (°C):\", std_dev)"
   ],
   "outputs": [
    {
     "name": "stdout",
     "output_type": "stream",
     "text": [
      "Standard deviation of measured temperatures (°C): 7.640744956589269\n"
     ]
    }
   ],
   "execution_count": 13
  }
 ],
 "metadata": {
  "kernelspec": {
   "display_name": "Python 3 (ipykernel)",
   "language": "python",
   "name": "python3"
  },
  "language_info": {
   "codemirror_mode": {
    "name": "ipython",
    "version": 3
   },
   "file_extension": ".py",
   "mimetype": "text/x-python",
   "name": "python",
   "nbconvert_exporter": "python",
   "pygments_lexer": "ipython3",
   "version": "3.12.0"
  }
 },
 "nbformat": 4,
 "nbformat_minor": 5
}
