{
 "cells": [
  {
   "cell_type": "markdown",
   "id": "3d1aaca22ae25957",
   "metadata": {},
   "source": [
    "**Gestione Energetica ed Automazione negli Edifici (GEAE) A.A. 2024/2025**\n",
    "\n",
    "*Tutto il materiale didattico messo a disposizione degli studenti (compresi script, markdown, presentazioni, video e Virtual Classroom) è da utilizzarsi esclusivamente per scopi didattici e nell’ambito del corso di “gestione energetica e automazione negli edifici”. È vietata ogni forma di utilizzo diverso, redistribuzione e pubblicazione on line. Per ogni eventuale dubbio o richiesta contattare il titolare del corso prof. Alfonso Capozzoli a alfonso.capozzoli@polito.it*\n",
    "\n",
    "# Introduzione all'utilizzo della libreria Pandas\n",
    "## Importing Pandas"
   ]
  },
  {
   "cell_type": "code",
   "id": "c0ad74a5a83c1f1",
   "metadata": {
    "ExecuteTime": {
     "end_time": "2024-10-04T08:13:11.657367Z",
     "start_time": "2024-10-04T08:13:10.837645Z"
    }
   },
   "source": [
    "import pandas as pd"
   ],
   "outputs": [],
   "execution_count": 1
  },
  {
   "cell_type": "markdown",
   "id": "1a7452399a56c4e5",
   "metadata": {},
   "source": [
    "## Creating a DataFrame\n",
    "Create a DataFrame from a dictionary of lists:"
   ]
  },
  {
   "cell_type": "code",
   "id": "e2968ff7bd9355a9",
   "metadata": {
    "ExecuteTime": {
     "end_time": "2024-10-04T08:13:11.677924Z",
     "start_time": "2024-10-04T08:13:11.657367Z"
    }
   },
   "source": [
    "data = {\n",
    "    'Temperature (°C)': [20, 25, 30, 35, 40],\n",
    "    'Pressure (bar)': [1.0, 1.2, 1.4, 1.6, 1.8],\n",
    "    'Flow Rate (m³/h)': [100, 150, 200, 250, 300]\n",
    "}\n",
    "\n",
    "df = pd.DataFrame(data)\n",
    "print(\"Initial DataFrame:\")\n",
    "print(df)"
   ],
   "outputs": [
    {
     "name": "stdout",
     "output_type": "stream",
     "text": [
      "Initial DataFrame:\n",
      "   Temperature (°C)  Pressure (bar)  Flow Rate (m³/h)\n",
      "0                20             1.0               100\n",
      "1                25             1.2               150\n",
      "2                30             1.4               200\n",
      "3                35             1.6               250\n",
      "4                40             1.8               300\n"
     ]
    }
   ],
   "execution_count": 2
  },
  {
   "cell_type": "markdown",
   "id": "c37fc55a79f62242",
   "metadata": {},
   "source": "## Exploring the Data"
  },
  {
   "cell_type": "code",
   "id": "5bd2ce5f14fd9b4c",
   "metadata": {
    "ExecuteTime": {
     "end_time": "2024-10-04T08:13:11.699741Z",
     "start_time": "2024-10-04T08:13:11.677924Z"
    }
   },
   "source": [
    "print(\"\\nDataFrame Information:\")\n",
    "print(df.info())\n",
    "\n",
    "print(\"\\nDescriptive Statistics:\")\n",
    "print(df.describe())\n"
   ],
   "outputs": [
    {
     "name": "stdout",
     "output_type": "stream",
     "text": [
      "\n",
      "DataFrame Information:\n",
      "<class 'pandas.core.frame.DataFrame'>\n",
      "RangeIndex: 5 entries, 0 to 4\n",
      "Data columns (total 3 columns):\n",
      " #   Column            Non-Null Count  Dtype  \n",
      "---  ------            --------------  -----  \n",
      " 0   Temperature (°C)  5 non-null      int64  \n",
      " 1   Pressure (bar)    5 non-null      float64\n",
      " 2   Flow Rate (m³/h)  5 non-null      int64  \n",
      "dtypes: float64(1), int64(2)\n",
      "memory usage: 252.0 bytes\n",
      "None\n",
      "\n",
      "Descriptive Statistics:\n",
      "       Temperature (°C)  Pressure (bar)  Flow Rate (m³/h)\n",
      "count          5.000000        5.000000          5.000000\n",
      "mean          30.000000        1.400000        200.000000\n",
      "std            7.905694        0.316228         79.056942\n",
      "min           20.000000        1.000000        100.000000\n",
      "25%           25.000000        1.200000        150.000000\n",
      "50%           30.000000        1.400000        200.000000\n",
      "75%           35.000000        1.600000        250.000000\n",
      "max           40.000000        1.800000        300.000000\n"
     ]
    }
   ],
   "execution_count": 3
  },
  {
   "cell_type": "markdown",
   "id": "803eee397f9d317",
   "metadata": {},
   "source": [
    "## Selection and Indexing\n",
    "Selecting a column"
   ]
  },
  {
   "cell_type": "code",
   "id": "a9deaea02ae172c3",
   "metadata": {
    "ExecuteTime": {
     "end_time": "2024-10-04T08:13:11.720910Z",
     "start_time": "2024-10-04T08:13:11.701264Z"
    }
   },
   "source": [
    "temperatures = df['Temperature (°C)']\n",
    "print(\"\\nTemperature Column:\")\n",
    "print(temperatures)"
   ],
   "outputs": [
    {
     "name": "stdout",
     "output_type": "stream",
     "text": [
      "\n",
      "Temperature Column:\n",
      "0    20\n",
      "1    25\n",
      "2    30\n",
      "3    35\n",
      "4    40\n",
      "Name: Temperature (°C), dtype: int64\n"
     ]
    }
   ],
   "execution_count": 4
  },
  {
   "cell_type": "markdown",
   "id": "6dc3994454180cfc",
   "metadata": {},
   "source": [
    "Selecting multiple columns"
   ]
  },
  {
   "cell_type": "code",
   "id": "355b76e958e5fb0d",
   "metadata": {
    "ExecuteTime": {
     "end_time": "2024-10-04T08:13:11.732809Z",
     "start_time": "2024-10-04T08:13:11.723081Z"
    }
   },
   "source": [
    "temperature_and_pressure = df[['Temperature (°C)', 'Pressure (bar)']]\n",
    "print(\"\\nTemperature and Pressure Columns:\")\n",
    "print(temperature_and_pressure)"
   ],
   "outputs": [
    {
     "name": "stdout",
     "output_type": "stream",
     "text": [
      "\n",
      "Temperature and Pressure Columns:\n",
      "   Temperature (°C)  Pressure (bar)\n",
      "0                20             1.0\n",
      "1                25             1.2\n",
      "2                30             1.4\n",
      "3                35             1.6\n",
      "4                40             1.8\n"
     ]
    }
   ],
   "execution_count": 5
  },
  {
   "cell_type": "markdown",
   "id": "3d736b6aa8254300",
   "metadata": {},
   "source": [
    "Selecting rows"
   ]
  },
  {
   "cell_type": "code",
   "id": "ea9d0946092159e7",
   "metadata": {
    "ExecuteTime": {
     "end_time": "2024-10-04T08:13:11.746386Z",
     "start_time": "2024-10-04T08:13:11.733324Z"
    }
   },
   "source": [
    "first_row = df.loc[0]\n",
    "print(\"\\nFirst Row of the DataFrame:\")\n",
    "print(first_row)"
   ],
   "outputs": [
    {
     "name": "stdout",
     "output_type": "stream",
     "text": [
      "\n",
      "First Row of the DataFrame:\n",
      "Temperature (°C)     20.0\n",
      "Pressure (bar)        1.0\n",
      "Flow Rate (m³/h)    100.0\n",
      "Name: 0, dtype: float64\n"
     ]
    }
   ],
   "execution_count": 6
  },
  {
   "cell_type": "code",
   "id": "f5422f110d08e239",
   "metadata": {
    "ExecuteTime": {
     "end_time": "2024-10-04T08:13:11.752900Z",
     "start_time": "2024-10-04T08:13:11.746386Z"
    }
   },
   "source": [
    "first_three_rows = df.loc[0:2]\n",
    "print(\"\\nFirst Three Rows of the DataFrame:\")\n",
    "print(first_three_rows)"
   ],
   "outputs": [
    {
     "name": "stdout",
     "output_type": "stream",
     "text": [
      "\n",
      "First Three Rows of the DataFrame:\n",
      "   Temperature (°C)  Pressure (bar)  Flow Rate (m³/h)\n",
      "0                20             1.0               100\n",
      "1                25             1.2               150\n",
      "2                30             1.4               200\n"
     ]
    }
   ],
   "execution_count": 7
  },
  {
   "cell_type": "code",
   "id": "505f64e6e953fbc2",
   "metadata": {
    "ExecuteTime": {
     "end_time": "2024-10-04T08:13:11.760102Z",
     "start_time": "2024-10-04T08:13:11.752900Z"
    }
   },
   "source": [
    "last_row = df.loc[df.index[-1]]\n",
    "print(\"\\nLast Row of the DataFrame:\")\n",
    "print(last_row)"
   ],
   "outputs": [
    {
     "name": "stdout",
     "output_type": "stream",
     "text": [
      "\n",
      "Last Row of the DataFrame:\n",
      "Temperature (°C)     40.0\n",
      "Pressure (bar)        1.8\n",
      "Flow Rate (m³/h)    300.0\n",
      "Name: 4, dtype: float64\n"
     ]
    }
   ],
   "execution_count": 8
  },
  {
   "cell_type": "markdown",
   "id": "c8bf7523df22b162",
   "metadata": {},
   "source": [
    "Selecting a specific value"
   ]
  },
  {
   "cell_type": "code",
   "id": "4e393271e5c0ef01",
   "metadata": {
    "ExecuteTime": {
     "end_time": "2024-10-04T08:13:11.765653Z",
     "start_time": "2024-10-04T08:13:11.760102Z"
    }
   },
   "source": [
    "specific_value = df.loc[2, 'Pressure (bar)']\n",
    "print(\"\\nSpecific value at row 2, column 'Pressure (bar)':\", specific_value)"
   ],
   "outputs": [
    {
     "name": "stdout",
     "output_type": "stream",
     "text": [
      "\n",
      "Specific value at row 2, column 'Pressure (bar)': 1.4\n"
     ]
    }
   ],
   "execution_count": 9
  },
  {
   "cell_type": "markdown",
   "id": "c4c4cbadeb59bb49",
   "metadata": {},
   "source": [
    "## Filtering Data\n",
    "Filtering rows where temperature is greater than 30°C"
   ]
  },
  {
   "cell_type": "code",
   "id": "d6844fb5c3173871",
   "metadata": {
    "ExecuteTime": {
     "end_time": "2024-10-04T08:13:11.772459Z",
     "start_time": "2024-10-04T08:13:11.766677Z"
    }
   },
   "source": [
    "df_high_temp = df[df['Temperature (°C)'] > 30]\n",
    "print(\"\\nData with temperature greater than 30°C:\")\n",
    "print(df_high_temp)"
   ],
   "outputs": [
    {
     "name": "stdout",
     "output_type": "stream",
     "text": [
      "\n",
      "Data with temperature greater than 30°C:\n",
      "   Temperature (°C)  Pressure (bar)  Flow Rate (m³/h)\n",
      "3                35             1.6               250\n",
      "4                40             1.8               300\n"
     ]
    }
   ],
   "execution_count": 10
  },
  {
   "metadata": {},
   "cell_type": "markdown",
   "source": "## Adding and Removing Columns",
   "id": "8f79274500c411a1"
  },
  {
   "metadata": {
    "ExecuteTime": {
     "end_time": "2024-10-04T08:13:11.779819Z",
     "start_time": "2024-10-04T08:13:11.773474Z"
    }
   },
   "cell_type": "code",
   "source": [
    "mass = 1000  # kg\n",
    "specific_heat = 4.18  # kJ/(kg·K)\n",
    "initial_temperature = 15  # °C\n",
    "df['Thermal Energy (kJ)'] = mass * specific_heat * (df['Temperature (°C)'] - initial_temperature)\n",
    "print(\"\\nDataFrame with Calculated Thermal Energy:\")\n",
    "print(df)"
   ],
   "id": "4804de197a91d546",
   "outputs": [
    {
     "name": "stdout",
     "output_type": "stream",
     "text": [
      "\n",
      "DataFrame with Calculated Thermal Energy:\n",
      "   Temperature (°C)  Pressure (bar)  Flow Rate (m³/h)  Thermal Energy (kJ)\n",
      "0                20             1.0               100              20900.0\n",
      "1                25             1.2               150              41800.0\n",
      "2                30             1.4               200              62700.0\n",
      "3                35             1.6               250              83600.0\n",
      "4                40             1.8               300             104500.0\n"
     ]
    }
   ],
   "execution_count": 11
  },
  {
   "metadata": {},
   "cell_type": "markdown",
   "source": [
    "## Grouping and aggregation\n",
    "Calculating the average flow rate for each pressure"
   ],
   "id": "7f64fb285db49e7"
  },
  {
   "metadata": {
    "ExecuteTime": {
     "end_time": "2024-10-04T08:13:11.786854Z",
     "start_time": "2024-10-04T08:13:11.779819Z"
    }
   },
   "cell_type": "code",
   "source": [
    "average_flow_rate = df.groupby('Pressure (bar)')['Flow Rate (m³/h)'].mean()\n",
    "print(\"\\nAverage Flow Rate by Pressure:\")\n",
    "print(average_flow_rate)"
   ],
   "id": "f0c7490f7d35da5c",
   "outputs": [
    {
     "name": "stdout",
     "output_type": "stream",
     "text": [
      "\n",
      "Average Flow Rate by Pressure:\n",
      "Pressure (bar)\n",
      "1.0    100.0\n",
      "1.2    150.0\n",
      "1.4    200.0\n",
      "1.6    250.0\n",
      "1.8    300.0\n",
      "Name: Flow Rate (m³/h), dtype: float64\n"
     ]
    }
   ],
   "execution_count": 12
  },
  {
   "metadata": {},
   "cell_type": "markdown",
   "source": "## Merging DataFrames",
   "id": "1f90be514d5c5623"
  },
  {
   "metadata": {
    "ExecuteTime": {
     "end_time": "2024-10-04T08:13:11.796946Z",
     "start_time": "2024-10-04T08:13:11.786854Z"
    }
   },
   "cell_type": "code",
   "source": [
    "data2 = {\n",
    "    'Temperature (°C)': [25, 30, 35],\n",
    "    'Efficiency (%)': [80, 82, 85]\n",
    "}\n",
    "\n",
    "df_efficiency = pd.DataFrame(data2)\n",
    "\n",
    "# Merging DataFrames on the 'Temperature (°C)' column\n",
    "df_merged = pd.merge(df, df_efficiency, on='Temperature (°C)', how='left')\n",
    "print(\"\\nMerged DataFrame with Efficiency:\")\n",
    "print(df_merged)"
   ],
   "id": "eff140369aacbd61",
   "outputs": [
    {
     "name": "stdout",
     "output_type": "stream",
     "text": [
      "\n",
      "Merged DataFrame with Efficiency:\n",
      "   Temperature (°C)  Pressure (bar)  Flow Rate (m³/h)  Thermal Energy (kJ)  \\\n",
      "0                20             1.0               100              20900.0   \n",
      "1                25             1.2               150              41800.0   \n",
      "2                30             1.4               200              62700.0   \n",
      "3                35             1.6               250              83600.0   \n",
      "4                40             1.8               300             104500.0   \n",
      "\n",
      "   Efficiency (%)  \n",
      "0             NaN  \n",
      "1            80.0  \n",
      "2            82.0  \n",
      "3            85.0  \n",
      "4             NaN  \n"
     ]
    }
   ],
   "execution_count": 13
  },
  {
   "metadata": {},
   "cell_type": "markdown",
   "source": "## Handling Missing Data",
   "id": "4b8b8fef6a476235"
  },
  {
   "metadata": {
    "ExecuteTime": {
     "end_time": "2024-10-04T08:13:11.804707Z",
     "start_time": "2024-10-04T08:13:11.796946Z"
    }
   },
   "cell_type": "code",
   "source": [
    "data3 = {\n",
    "    'Temperature (°C)': [20, 25, None, 35, 40],\n",
    "    'Pressure (bar)': [1.0, 1.2, 1.4, 1.6, None],\n",
    "    'Flow Rate (m³/h)': [100, 150, 200, None, 300]\n",
    "}\n",
    "\n",
    "df_missing = pd.DataFrame(data3)\n",
    "print(\"\\nDataFrame with Missing Data:\")\n",
    "print(df_missing)"
   ],
   "id": "65cc8fa333bf9ebb",
   "outputs": [
    {
     "name": "stdout",
     "output_type": "stream",
     "text": [
      "\n",
      "DataFrame with Missing Data:\n",
      "   Temperature (°C)  Pressure (bar)  Flow Rate (m³/h)\n",
      "0              20.0             1.0             100.0\n",
      "1              25.0             1.2             150.0\n",
      "2               NaN             1.4             200.0\n",
      "3              35.0             1.6               NaN\n",
      "4              40.0             NaN             300.0\n"
     ]
    }
   ],
   "execution_count": 14
  },
  {
   "metadata": {},
   "cell_type": "markdown",
   "source": "Dropping rows with missing values",
   "id": "cfebf28b8096c9c1"
  },
  {
   "metadata": {
    "ExecuteTime": {
     "end_time": "2024-10-04T08:13:11.812335Z",
     "start_time": "2024-10-04T08:13:11.804707Z"
    }
   },
   "cell_type": "code",
   "source": [
    "df_cleaned = df_missing.dropna()\n",
    "print(\"\\nDataFrame after Dropping Rows with Missing Values:\")\n",
    "\n",
    "print(df_cleaned)"
   ],
   "id": "d8b7b3303f0b40de",
   "outputs": [
    {
     "name": "stdout",
     "output_type": "stream",
     "text": [
      "\n",
      "DataFrame after Dropping Rows with Missing Values:\n",
      "   Temperature (°C)  Pressure (bar)  Flow Rate (m³/h)\n",
      "0              20.0             1.0             100.0\n",
      "1              25.0             1.2             150.0\n"
     ]
    }
   ],
   "execution_count": 15
  },
  {
   "metadata": {},
   "cell_type": "markdown",
   "source": "Filling missing values with a specific value",
   "id": "82732f862cd4b2f8"
  },
  {
   "metadata": {
    "ExecuteTime": {
     "end_time": "2024-10-04T08:13:11.819373Z",
     "start_time": "2024-10-04T08:13:11.812335Z"
    }
   },
   "cell_type": "code",
   "source": [
    "df_filled = df_missing.fillna(0)\n",
    "print(\"\\nDataFrame after Filling Missing Values with 0:\")\n",
    "print(df_filled)"
   ],
   "id": "491f510975cda6be",
   "outputs": [
    {
     "name": "stdout",
     "output_type": "stream",
     "text": [
      "\n",
      "DataFrame after Filling Missing Values with 0:\n",
      "   Temperature (°C)  Pressure (bar)  Flow Rate (m³/h)\n",
      "0              20.0             1.0             100.0\n",
      "1              25.0             1.2             150.0\n",
      "2               0.0             1.4             200.0\n",
      "3              35.0             1.6               0.0\n",
      "4              40.0             0.0             300.0\n"
     ]
    }
   ],
   "execution_count": 16
  },
  {
   "metadata": {},
   "cell_type": "markdown",
   "source": "Using na interpolation to fill missing values",
   "id": "3f918465bb275dd7"
  },
  {
   "metadata": {
    "ExecuteTime": {
     "end_time": "2024-10-04T08:13:11.828079Z",
     "start_time": "2024-10-04T08:13:11.820380Z"
    }
   },
   "cell_type": "code",
   "source": [
    "df_interpolated = df_missing.interpolate()\n",
    "print(\"\\nDataFrame after Interpolating Missing Values:\")\n",
    "print(df_interpolated)"
   ],
   "id": "388ac985cbf8d51a",
   "outputs": [
    {
     "name": "stdout",
     "output_type": "stream",
     "text": [
      "\n",
      "DataFrame after Interpolating Missing Values:\n",
      "   Temperature (°C)  Pressure (bar)  Flow Rate (m³/h)\n",
      "0              20.0             1.0             100.0\n",
      "1              25.0             1.2             150.0\n",
      "2              30.0             1.4             200.0\n",
      "3              35.0             1.6             250.0\n",
      "4              40.0             1.6             300.0\n"
     ]
    }
   ],
   "execution_count": 17
  },
  {
   "metadata": {},
   "cell_type": "markdown",
   "source": "# Introduction to data visualization with matplotlib",
   "id": "e613869d668a6231"
  },
  {
   "metadata": {
    "ExecuteTime": {
     "end_time": "2024-10-04T08:13:12.473754Z",
     "start_time": "2024-10-04T08:13:11.828079Z"
    }
   },
   "cell_type": "code",
   "source": "import matplotlib.pyplot as plt",
   "id": "d2843fa10e72bc07",
   "outputs": [],
   "execution_count": 18
  },
  {
   "metadata": {},
   "cell_type": "markdown",
   "source": "Plotting Temperature vs. Thermal Energy",
   "id": "82b686d9c4c558c3"
  },
  {
   "metadata": {
    "ExecuteTime": {
     "end_time": "2024-10-04T08:13:12.643966Z",
     "start_time": "2024-10-04T08:13:12.473754Z"
    }
   },
   "cell_type": "code",
   "source": [
    "plt.plot(df['Temperature (°C)'], df['Thermal Energy (kJ)'], marker='o')\n",
    "plt.title('Temperature vs. Thermal Energy')\n",
    "plt.xlabel('Temperature (°C)')\n",
    "plt.ylabel('Thermal Energy (kJ)')\n",
    "plt.grid(True)\n",
    "plt.show()"
   ],
   "id": "ea6eb05e16c95722",
   "outputs": [
    {
     "data": {
      "text/plain": [
       "<Figure size 640x480 with 1 Axes>"
      ],
      "image/png": "[encoded data removed]"
     },
     "metadata": {},
     "output_type": "display_data"
    }
   ],
   "execution_count": 19
  },
  {
   "metadata": {},
   "cell_type": "markdown",
   "source": "Bar chart of Efficiency",
   "id": "e0529e719388a9ca"
  },
  {
   "metadata": {
    "ExecuteTime": {
     "end_time": "2024-10-04T08:13:12.837391Z",
     "start_time": "2024-10-04T08:13:12.646651Z"
    }
   },
   "cell_type": "code",
   "source": [
    "df_merged.dropna(inplace=True)  # Remove rows with NaN values\n",
    "plt.bar(df_merged['Temperature (°C)'], df_merged['Efficiency (%)'])\n",
    "plt.title('Efficiency as a Function of Temperature')\n",
    "plt.xlabel('Temperature (°C)')\n",
    "plt.ylabel('Efficiency (%)')\n",
    "plt.show()"
   ],
   "id": "bafe925055b3ecd0",
   "outputs": [
    {
     "data": {
      "text/plain": [
       "<Figure size 640x480 with 1 Axes>"
      ],
      "image/png": "[encoded data removed]"
     },
     "metadata": {},
     "output_type": "display_data"
    }
   ],
   "execution_count": 20
  }
 ],
 "metadata": {
  "author": "BAEDA Lab - Politecnico di Torino",
  "date": "October 11, 2024",
  "kernelspec": {
   "display_name": "Python 3 (ipykernel)",
   "language": "python",
   "name": "python3"
  },
  "language_info": {
   "codemirror_mode": {
    "name": "ipython",
    "version": 3
   },
   "file_extension": ".py",
   "mimetype": "text/x-python",
   "name": "python",
   "nbconvert_exporter": "python",
   "pygments_lexer": "ipython3",
   "version": "3.12.0"
  },
  "title": "Exercise 1 - Part 3: Introduction to Pandas"
 },
 "nbformat": 4,
 "nbformat_minor": 5
}
