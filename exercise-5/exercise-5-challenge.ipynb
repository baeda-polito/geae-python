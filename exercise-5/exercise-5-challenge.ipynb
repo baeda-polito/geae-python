{
 "cells": [
  {
   "metadata": {},
   "cell_type": "markdown",
   "source": [
    "**Gestione Energetica ed Automazione negli Edifici (GEAE) A.A. 2024/2025**\n",
    "\n",
    "*Tutto il materiale didattico messo a disposizione degli studenti (compresi script, markdown, presentazioni, video e Virtual Classroom) è da utilizzarsi esclusivamente per scopi didattici e nell’ambito del corso di “gestione energetica e automazione negli edifici”. È vietata ogni forma di utilizzo diverso, redistribuzione e pubblicazione on line. Per ogni eventuale dubbio o richiesta contattare il titolare del corso prof. Alfonso Capozzoli a alfonso.capozzoli@polito.it*\n",
    "\n",
    "# Energy Benchmarking Challenge\n",
    "\n",
    "Divide into groups. Your objective is to build an energy benchmarking process capable to identify energy consumption anomalies in timeseries data. Your process should leverage one of the techniques seen during the course. In Phase 1 you will be provided with a training dataset. In Phase 2 you will be provided with a test dataset. Your objective is to define the benchmarking strategy in Phase 1 and apply it to the test dataset in Phase 2.\n",
    "\n",
    "\n",
    "## Phase 1 - Instructions\n",
    "\n",
    "Load the dataset data_challenge_phase_1.csv.\n",
    "\n",
    "Explore the dataset to understand if it is necessary to preprocess the data in order to build a robust benchmarking model.\n",
    "\n",
    "Build the benchmarking model.\n",
    "\n",
    "Define a strategy to tag anomalies given the output of your benchmarking model.\n",
    "\n",
    "Have fun:\n"
   ],
   "id": "fa3200e846efe172"
  },
  {
   "metadata": {},
   "cell_type": "code",
   "outputs": [],
   "execution_count": null,
   "source": "",
   "id": "3b08e0415537c289"
  },
  {
   "metadata": {},
   "cell_type": "markdown",
   "source": [
    "## Phase 2 - Instructions\n",
    "\n",
    "You will be provided with a new dataset data_challenge_phase_2.csv. This dataset includes the same columns as the dataset provided in Phase 1.\n",
    "\n",
    "Apply the strategy defined in Phase 1 to tag anomalies in the new dataset. At the end you need to define a new column labeled as \"anomaly\" in the dataset data_challenge_phase_2.csv. The column should contain 1 if the observation is an anomaly and 0 otherwise."
   ],
   "id": "2970684699f4dca9"
  },
  {
   "metadata": {},
   "cell_type": "code",
   "outputs": [],
   "execution_count": null,
   "source": [
    "\n",
    "# apply the strategy\n",
    "\n",
    "# data_phase_2[\"anomaly\"] = 0"
   ],
   "id": "1ab1d818634e9cd3"
  },
  {
   "metadata": {},
   "cell_type": "markdown",
   "source": [
    "## Phase 2 - Submission\n",
    "\n",
    "Once you have completed phase 2 you need to submit the dataset data_challenge_phase_2.csv with the new column labeled as \"anomaly\" to [silvio.brandi@polito.it](mailto:silvio.brandi@polito.it)"
   ],
   "id": "870b3b5d6d9d9a20"
  },
  {
   "metadata": {},
   "cell_type": "code",
   "outputs": [],
   "execution_count": null,
   "source": [
    "# group_name = \"GEAE_BEST_GROUP\"\n",
    "# data_phase_2.to_csv(f\"data_challenge_phase_2_{group_name}.csv\", index=False)"
   ],
   "id": "70014fc5a867bdb4"
  }
 ],
 "metadata": {
  "kernelspec": {
   "display_name": "Python 3",
   "language": "python",
   "name": "python3"
  },
  "language_info": {
   "codemirror_mode": {
    "name": "ipython",
    "version": 2
   },
   "file_extension": ".py",
   "mimetype": "text/x-python",
   "name": "python",
   "nbconvert_exporter": "python",
   "pygments_lexer": "ipython2",
   "version": "2.7.6"
  }
 },
 "nbformat": 4,
 "nbformat_minor": 5
}
