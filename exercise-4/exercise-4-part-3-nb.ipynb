{
 "cells": [
  {
   "metadata": {},
   "cell_type": "markdown",
   "source": [
    "**Gestione Energetica ed Automazione negli Edifici (GEAE) A.A. 2024/2025**\n",
    "\n",
    "*Tutto il materiale didattico messo a disposizione degli studenti (compresi script, markdown, presentazioni, video e Virtual Classroom) è da utilizzarsi esclusivamente per scopi didattici e nell’ambito del corso di “gestione energetica e automazione negli edifici”. È vietata ogni forma di utilizzo diverso, redistribuzione e pubblicazione on line. Per ogni eventuale dubbio o richiesta contattare il titolare del corso prof. Alfonso Capozzoli a alfonso.capozzoli@polito.it*\n",
    "\n",
    "# Load Forecasting N-step ahead with MLP\n",
    "\n",
    "\n",
    "### Importing Libraries"
   ],
   "id": "b06d7ec0cab7e148"
  },
  {
   "metadata": {
    "ExecuteTime": {
     "end_time": "2024-11-15T16:13:44.943772Z",
     "start_time": "2024-11-15T16:13:44.940269Z"
    }
   },
   "cell_type": "code",
   "source": [
    "import pandas as pd\n",
    "import torch\n",
    "import torch.nn as nn\n",
    "import torch.optim as optim\n",
    "\n",
    "from torch.utils.data import DataLoader, TensorDataset\n",
    "\n",
    "from sklearn.metrics import mean_squared_error, r2_score, mean_absolute_percentage_error\n",
    "import numpy as np"
   ],
   "id": "9cbf5fbefa3694c",
   "outputs": [],
   "execution_count": 18
  },
  {
   "metadata": {},
   "cell_type": "markdown",
   "source": "### Defining a robust MLP class",
   "id": "7fbd28a2b57dd547"
  },
  {
   "metadata": {
    "ExecuteTime": {
     "end_time": "2024-11-15T16:13:45.035452Z",
     "start_time": "2024-11-15T16:13:45.029002Z"
    }
   },
   "cell_type": "code",
   "source": [
    "class MLP(nn.Module):\n",
    "    def __init__(self, input_size, hidden_sizes, output_size, activation='relu'):\n",
    "        \"\"\"\n",
    "        Parameters:\n",
    "        - input_size (int): The size of the input layer.\n",
    "        - hidden_sizes (list of int): A list containing the sizes of each hidden layer.\n",
    "        - output_size (int): The size of the output layer.\n",
    "        - activation (str): The activation function for hidden layers ('relu' or 'tanh').\n",
    "        - apply_relu_output (bool): Whether to apply ReLU to the output layer.\n",
    "        \"\"\"\n",
    "        super(MLP, self).__init__()\n",
    "        \n",
    "        # Store activation function type\n",
    "        if activation not in ['relu', 'tanh']:\n",
    "            raise ValueError(\"Activation function must be either 'relu' or 'tanh'\")\n",
    "        self.activation = activation\n",
    "\n",
    "        # Create the list of layers\n",
    "        layers = []\n",
    "        previous_size = input_size\n",
    "        for hidden_size in hidden_sizes:\n",
    "            layers.append(nn.Linear(previous_size, hidden_size))\n",
    "            previous_size = hidden_size\n",
    "        \n",
    "        # Output layer\n",
    "        layers.append(nn.Linear(previous_size, output_size))\n",
    "        \n",
    "        # Register the layers as a ModuleList\n",
    "        self.layers = nn.ModuleList(layers)\n",
    "\n",
    "    def forward(self, x):\n",
    "        # Apply hidden layers with the chosen activation function\n",
    "        for layer in self.layers[:-1]:\n",
    "            x = layer(x)\n",
    "            if self.activation == 'relu':\n",
    "                x = torch.relu(x)\n",
    "            elif self.activation == 'tanh':\n",
    "                x = torch.tanh(x)\n",
    "        \n",
    "        # Apply the output layer\n",
    "        x = self.layers[-1](x)\n",
    "        \n",
    "        return x\n",
    "    \n",
    "    def predict(self, df):\n",
    "        \"\"\"\n",
    "        Parameters:\n",
    "        - df (pd.DataFrame): The input DataFrame containing the features.\n",
    "        \n",
    "        Returns:\n",
    "        - np.ndarray: The prediction as a NumPy array.\n",
    "        \"\"\"\n",
    "        self.eval()  # Set the model to evaluation mode\n",
    "        with torch.no_grad():\n",
    "            x = torch.tensor(df.values, dtype=torch.float32)\n",
    "            output = self.forward(x)\n",
    "        return np.array(output.numpy(), dtype=float)\n"
   ],
   "id": "43313bfa97fe3680",
   "outputs": [],
   "execution_count": 19
  },
  {
   "metadata": {},
   "cell_type": "markdown",
   "source": "### Data Loading and Preparation",
   "id": "3d802f7c244e27a3"
  },
  {
   "metadata": {
    "ExecuteTime": {
     "end_time": "2024-11-15T16:13:45.068239Z",
     "start_time": "2024-11-15T16:13:45.045692Z"
    }
   },
   "cell_type": "code",
   "source": [
    "df = pd.read_csv('../data/data.csv', decimal=',', sep=';')\n",
    "# extract datetime from date and hour of original df\n",
    "df['datetime'] = pd.to_datetime(df['Date'].astype(str) + ' ' + df['Hour'].astype(str), format=\"%d/%m/%Y %H\")\n",
    "df['Year'] = pd.to_datetime(df['Date'], format='%d/%m/%Y').dt.year\n",
    "# numeric day of week\n",
    "df['DayOfWeek'] = df['datetime'].dt.dayofweek"
   ],
   "id": "cf518050cec5bdf0",
   "outputs": [],
   "execution_count": 20
  },
  {
   "metadata": {},
   "cell_type": "markdown",
   "source": "### Data Scaling",
   "id": "172c2ec3685b9c46"
  },
  {
   "metadata": {
    "ExecuteTime": {
     "end_time": "2024-11-15T16:13:45.075878Z",
     "start_time": "2024-11-15T16:13:45.069246Z"
    }
   },
   "cell_type": "code",
   "source": [
    "# normalize input features and target\n",
    "df['P_norm'] = df['P'] / df['P'].max()\n",
    "df['Test_norm'] = (df['Test'] - df['Test'].min()) / (df['Test'].max() - df['Test'].min())\n",
    "# norm on max day of week and hour\n",
    "df['DayOfWeek_norm'] = df['DayOfWeek'] / df['DayOfWeek'].max()\n",
    "df['Hour_norm'] = df['Hour'] / df['Hour'].max()"
   ],
   "id": "41eed488f256bc13",
   "outputs": [],
   "execution_count": 21
  },
  {
   "metadata": {
    "ExecuteTime": {
     "end_time": "2024-11-15T16:13:45.084375Z",
     "start_time": "2024-11-15T16:13:45.077886Z"
    }
   },
   "cell_type": "code",
   "source": [
    "# split data into train and test sets based on year 2015 or 2016\n",
    "train_df = df[df['Year'] == 2015].copy()\n",
    "test_df = df[df['Year'] == 2016].copy()"
   ],
   "id": "9a5d9d86bceb085d",
   "outputs": [],
   "execution_count": 22
  },
  {
   "metadata": {
    "ExecuteTime": {
     "end_time": "2024-11-15T16:13:45.091035Z",
     "start_time": "2024-11-15T16:13:45.085891Z"
    }
   },
   "cell_type": "code",
   "source": [
    "def create_forecasting_datasets(data, lag_variables, forward_variables, static_variables=None, lag_steps=3, forward_steps=1):\n",
    "    \"\"\"\n",
    "    Builds a dataset with lagged input features, forward-stepped outputs, and static features for time series forecasting.\n",
    "\n",
    "    Parameters:\n",
    "        data (pd.DataFrame): The original dataset containing time series data.\n",
    "        lag_variables (list): List of column names used as lagged features.\n",
    "        forward_variables (list): List of column names used as output features.\n",
    "        static_variables (list, optional): List of column names to be included as-is without lagging or forwarding.\n",
    "        lag_steps (int): Number of lagged steps for input features.\n",
    "        forward_steps (int): Number of forward steps for outputs.\n",
    "\n",
    "    Returns:\n",
    "        pd.DataFrame: A DataFrame with lagged inputs, forward-stepped outputs, and static features.\n",
    "    \"\"\"\n",
    "    \n",
    "    # Initialize lists to store lagged, forward-stepped, and static columns\n",
    "    lagged_data = []\n",
    "    forward_data = []\n",
    "    static_data = []\n",
    "\n",
    "    # Generate lagged features for each input feature\n",
    "    for feature in lag_variables:\n",
    "        for lag in range(0, lag_steps):\n",
    "            lagged_data.append(data[feature].shift(lag).rename(f'{feature}_lag_{lag}'))\n",
    "    \n",
    "    # Generate forward-stepped features for each output feature\n",
    "    for feature in forward_variables:\n",
    "        for step in range(1, forward_steps + 1):\n",
    "            forward_data.append(data[feature].shift(-step).rename(f'{feature}_step_{step}'))\n",
    "    \n",
    "    # Add static features without any lagging or forwarding\n",
    "    if static_variables:\n",
    "        static_data = [data[feature] for feature in static_variables]\n",
    "    \n",
    "    # Concatenate the lagged, forward, and static data\n",
    "    lagged_df = pd.concat(lagged_data, axis=1)\n",
    "    forward_df = pd.concat(forward_data, axis=1)\n",
    "    static_df = pd.concat(static_data, axis=1) if static_data else pd.DataFrame()\n",
    "    \n",
    "    # Combine all data\n",
    "    result = pd.concat([lagged_df, static_df, forward_df], axis=1).dropna()\n",
    "    \n",
    "    return result\n"
   ],
   "id": "758130cb4f968bfc",
   "outputs": [],
   "execution_count": 23
  },
  {
   "metadata": {},
   "cell_type": "markdown",
   "source": "### Prepare the data for training",
   "id": "2b2743742024f17a"
  },
  {
   "metadata": {
    "ExecuteTime": {
     "end_time": "2024-11-15T16:13:45.130236Z",
     "start_time": "2024-11-15T16:13:45.101559Z"
    }
   },
   "cell_type": "code",
   "source": [
    "train_df_prepared_all = create_forecasting_datasets(train_df,\n",
    "                                                lag_variables=['P_norm'],\n",
    "                                                forward_variables=['Test_norm', 'P_norm'],\n",
    "                                                static_variables=['DayOfWeek_norm', 'Hour_norm'],\n",
    "                                                lag_steps=48,\n",
    "                                                forward_steps=24)\n",
    "# sample 10% of train_df_prepared as validation set\n",
    "val_df_prepared = train_df_prepared_all.sample(frac=0.1, random_state=42)\n",
    "train_df_prepared = train_df_prepared_all.drop(val_df_prepared.index)\n",
    "\n",
    "test_df_prepared = create_forecasting_datasets(test_df,\n",
    "                                               lag_variables=['P_norm'],\n",
    "                                               forward_variables=['Test_norm', 'P_norm'],\n",
    "                                               static_variables=['DayOfWeek_norm', 'Hour_norm'],\n",
    "                                               lag_steps=48,\n",
    "                                               forward_steps=24)"
   ],
   "id": "23aaef60e979de2b",
   "outputs": [],
   "execution_count": 24
  },
  {
   "metadata": {},
   "cell_type": "markdown",
   "source": "",
   "id": "2e36acbda317b946"
  },
  {
   "metadata": {
    "ExecuteTime": {
     "end_time": "2024-11-15T16:13:45.141010Z",
     "start_time": "2024-11-15T16:13:45.134754Z"
    }
   },
   "cell_type": "code",
   "source": [
    "train_features = torch.FloatTensor(train_df_prepared.values[:, 0:74])\n",
    "train_targets = torch.FloatTensor(train_df_prepared.values[:, 74:98])\n",
    "dataset = TensorDataset(train_features, train_targets)\n",
    "train_loader = DataLoader(dataset, batch_size=32, shuffle=True)"
   ],
   "id": "ea6752122d69508c",
   "outputs": [],
   "execution_count": 25
  },
  {
   "metadata": {
    "ExecuteTime": {
     "end_time": "2024-11-15T16:13:45.170062Z",
     "start_time": "2024-11-15T16:13:45.165568Z"
    }
   },
   "cell_type": "code",
   "source": [
    "val_features = torch.FloatTensor(val_df_prepared.values[:, 0:74])\n",
    "val_targets = torch.FloatTensor(val_df_prepared.values[:, 74:98])\n",
    "val_dataset = TensorDataset(val_features, val_targets)\n",
    "val_loader = DataLoader(val_dataset, batch_size=32, shuffle=False)"
   ],
   "id": "31843a393ae6e1eb",
   "outputs": [],
   "execution_count": 26
  },
  {
   "metadata": {},
   "cell_type": "markdown",
   "source": "### Setting hyperparameters",
   "id": "dfd85898f35863ea"
  },
  {
   "metadata": {
    "ExecuteTime": {
     "end_time": "2024-11-15T16:13:45.174818Z",
     "start_time": "2024-11-15T16:13:45.171068Z"
    }
   },
   "cell_type": "code",
   "source": [
    "# hyperparameters\n",
    "batch_size = 128\n",
    "hidden_sizes = [512, 512, 256, 256]\n",
    "activation = 'relu'\n",
    "learning_rate = 0.001\n",
    "epochs = 100"
   ],
   "id": "62167016ce5609ca",
   "outputs": [],
   "execution_count": 27
  },
  {
   "metadata": {},
   "cell_type": "markdown",
   "source": "### Model Initialization",
   "id": "28de8f2761237dd2"
  },
  {
   "metadata": {
    "ExecuteTime": {
     "end_time": "2024-11-15T16:13:45.191317Z",
     "start_time": "2024-11-15T16:13:45.184341Z"
    }
   },
   "cell_type": "code",
   "source": [
    "model = MLP(len(train_features[0]), \n",
    "            hidden_sizes, len(train_targets[0]), activation=activation)"
   ],
   "id": "1f5216b4eaa4ec85",
   "outputs": [],
   "execution_count": 28
  },
  {
   "metadata": {
    "ExecuteTime": {
     "end_time": "2024-11-15T16:13:45.205560Z",
     "start_time": "2024-11-15T16:13:45.201843Z"
    }
   },
   "cell_type": "code",
   "source": [
    "# define the loss function and the optimizer\n",
    "criterion = nn.MSELoss()\n",
    "optimizer = optim.RMSprop(model.parameters(), lr=learning_rate)"
   ],
   "id": "dbfb83486eecc675",
   "outputs": [],
   "execution_count": 29
  },
  {
   "metadata": {},
   "cell_type": "markdown",
   "source": "### Training the model",
   "id": "a1fc1102a2937d56"
  },
  {
   "metadata": {
    "ExecuteTime": {
     "end_time": "2024-11-15T16:14:41.849310Z",
     "start_time": "2024-11-15T16:13:45.228229Z"
    }
   },
   "cell_type": "code",
   "source": [
    "# train the model\n",
    "epochs = epochs\n",
    "\n",
    "train_losses = []\n",
    "val_losses = []\n",
    "\n",
    "for epoch in range(epochs):\n",
    "    epoch_loss = 0.0\n",
    "    model.train()  # Set the model to training mode\n",
    "    \n",
    "    for batch_idx, (inputs, targets) in enumerate(train_loader):\n",
    "        # Forward pass\n",
    "        optimizer.zero_grad()\n",
    "        output = model(inputs)\n",
    "\n",
    "        # Calculate loss\n",
    "        loss = criterion(output, targets)\n",
    "\n",
    "        # Backward pass and optimization\n",
    "        loss.backward()\n",
    "        optimizer.step()\n",
    "\n",
    "        # Accumulate the batch loss\n",
    "        epoch_loss += loss.item()\n",
    "    \n",
    "    # Calculate and print the average epoch loss\n",
    "    avg_epoch_loss = epoch_loss / len(train_loader)\n",
    "    \n",
    "    model.eval()\n",
    "    with torch.no_grad():\n",
    "        val_output = model(val_features)\n",
    "        val_loss = criterion(val_output, val_targets).item()\n",
    "        \n",
    "    train_losses.append(avg_epoch_loss)\n",
    "    val_losses.append(val_loss)\n",
    "    \n",
    "    print(f\"Epoch {epoch+1}/{epochs}, Training Loss: {avg_epoch_loss:.4f}, Validation Loss: {val_loss:.4f}\")"
   ],
   "id": "d021aedcee6d91b0",
   "outputs": [
    {
     "name": "stdout",
     "output_type": "stream",
     "text": [
      "Epoch 1/100, Training Loss: 0.1101, Validation Loss: 0.0464\n",
      "Epoch 2/100, Training Loss: 0.0303, Validation Loss: 0.0214\n",
      "Epoch 3/100, Training Loss: 0.0211, Validation Loss: 0.0223\n",
      "Epoch 4/100, Training Loss: 0.0201, Validation Loss: 0.0152\n",
      "Epoch 5/100, Training Loss: 0.0155, Validation Loss: 0.0125\n",
      "Epoch 6/100, Training Loss: 0.0151, Validation Loss: 0.0108\n",
      "Epoch 7/100, Training Loss: 0.0130, Validation Loss: 0.0095\n",
      "Epoch 8/100, Training Loss: 0.0131, Validation Loss: 0.0145\n",
      "Epoch 9/100, Training Loss: 0.0104, Validation Loss: 0.0091\n",
      "Epoch 10/100, Training Loss: 0.0105, Validation Loss: 0.0196\n",
      "Epoch 11/100, Training Loss: 0.0103, Validation Loss: 0.0082\n",
      "Epoch 12/100, Training Loss: 0.0096, Validation Loss: 0.0217\n",
      "Epoch 13/100, Training Loss: 0.0087, Validation Loss: 0.0126\n",
      "Epoch 14/100, Training Loss: 0.0085, Validation Loss: 0.0085\n",
      "Epoch 15/100, Training Loss: 0.0071, Validation Loss: 0.0048\n",
      "Epoch 16/100, Training Loss: 0.0082, Validation Loss: 0.0080\n",
      "Epoch 17/100, Training Loss: 0.0065, Validation Loss: 0.0053\n",
      "Epoch 18/100, Training Loss: 0.0070, Validation Loss: 0.0089\n",
      "Epoch 19/100, Training Loss: 0.0060, Validation Loss: 0.0042\n",
      "Epoch 20/100, Training Loss: 0.0066, Validation Loss: 0.0049\n",
      "Epoch 21/100, Training Loss: 0.0052, Validation Loss: 0.0038\n",
      "Epoch 22/100, Training Loss: 0.0062, Validation Loss: 0.0048\n",
      "Epoch 23/100, Training Loss: 0.0051, Validation Loss: 0.0095\n",
      "Epoch 24/100, Training Loss: 0.0036, Validation Loss: 0.0100\n",
      "Epoch 25/100, Training Loss: 0.0055, Validation Loss: 0.0052\n",
      "Epoch 26/100, Training Loss: 0.0035, Validation Loss: 0.0069\n",
      "Epoch 27/100, Training Loss: 0.0033, Validation Loss: 0.0029\n",
      "Epoch 28/100, Training Loss: 0.0060, Validation Loss: 0.0021\n",
      "Epoch 29/100, Training Loss: 0.0029, Validation Loss: 0.0016\n",
      "Epoch 30/100, Training Loss: 0.0029, Validation Loss: 0.0038\n",
      "Epoch 31/100, Training Loss: 0.0043, Validation Loss: 0.0017\n",
      "Epoch 32/100, Training Loss: 0.0033, Validation Loss: 0.0161\n",
      "Epoch 33/100, Training Loss: 0.0045, Validation Loss: 0.0017\n",
      "Epoch 34/100, Training Loss: 0.0032, Validation Loss: 0.0104\n",
      "Epoch 35/100, Training Loss: 0.0020, Validation Loss: 0.0017\n",
      "Epoch 36/100, Training Loss: 0.0031, Validation Loss: 0.0064\n",
      "Epoch 37/100, Training Loss: 0.0047, Validation Loss: 0.0049\n",
      "Epoch 38/100, Training Loss: 0.0024, Validation Loss: 0.0014\n",
      "Epoch 39/100, Training Loss: 0.0017, Validation Loss: 0.0013\n",
      "Epoch 40/100, Training Loss: 0.0055, Validation Loss: 0.0059\n",
      "Epoch 41/100, Training Loss: 0.0042, Validation Loss: 0.0013\n",
      "Epoch 42/100, Training Loss: 0.0012, Validation Loss: 0.0014\n",
      "Epoch 43/100, Training Loss: 0.0018, Validation Loss: 0.0318\n",
      "Epoch 44/100, Training Loss: 0.0063, Validation Loss: 0.0015\n",
      "Epoch 45/100, Training Loss: 0.0012, Validation Loss: 0.0021\n",
      "Epoch 46/100, Training Loss: 0.0016, Validation Loss: 0.0016\n",
      "Epoch 47/100, Training Loss: 0.0058, Validation Loss: 0.0034\n",
      "Epoch 48/100, Training Loss: 0.0025, Validation Loss: 0.0012\n",
      "Epoch 49/100, Training Loss: 0.0010, Validation Loss: 0.0019\n",
      "Epoch 50/100, Training Loss: 0.0056, Validation Loss: 0.0028\n",
      "Epoch 51/100, Training Loss: 0.0019, Validation Loss: 0.0016\n",
      "Epoch 52/100, Training Loss: 0.0013, Validation Loss: 0.0016\n",
      "Epoch 53/100, Training Loss: 0.0012, Validation Loss: 0.0012\n",
      "Epoch 54/100, Training Loss: 0.0036, Validation Loss: 0.0039\n",
      "Epoch 55/100, Training Loss: 0.0027, Validation Loss: 0.0013\n",
      "Epoch 56/100, Training Loss: 0.0014, Validation Loss: 0.0011\n",
      "Epoch 57/100, Training Loss: 0.0012, Validation Loss: 0.0018\n",
      "Epoch 58/100, Training Loss: 0.0059, Validation Loss: 0.0086\n",
      "Epoch 59/100, Training Loss: 0.0023, Validation Loss: 0.0011\n",
      "Epoch 60/100, Training Loss: 0.0009, Validation Loss: 0.0037\n",
      "Epoch 61/100, Training Loss: 0.0012, Validation Loss: 0.0018\n",
      "Epoch 62/100, Training Loss: 0.0013, Validation Loss: 0.0023\n",
      "Epoch 63/100, Training Loss: 0.0052, Validation Loss: 0.0111\n",
      "Epoch 64/100, Training Loss: 0.0026, Validation Loss: 0.0015\n",
      "Epoch 65/100, Training Loss: 0.0008, Validation Loss: 0.0014\n",
      "Epoch 66/100, Training Loss: 0.0023, Validation Loss: 0.0011\n",
      "Epoch 67/100, Training Loss: 0.0010, Validation Loss: 0.0013\n",
      "Epoch 68/100, Training Loss: 0.0009, Validation Loss: 0.0058\n",
      "Epoch 69/100, Training Loss: 0.0042, Validation Loss: 0.0012\n",
      "Epoch 70/100, Training Loss: 0.0029, Validation Loss: 0.0010\n",
      "Epoch 71/100, Training Loss: 0.0008, Validation Loss: 0.0012\n",
      "Epoch 72/100, Training Loss: 0.0011, Validation Loss: 0.0022\n",
      "Epoch 73/100, Training Loss: 0.0055, Validation Loss: 0.0030\n",
      "Epoch 74/100, Training Loss: 0.0028, Validation Loss: 0.0010\n",
      "Epoch 75/100, Training Loss: 0.0007, Validation Loss: 0.0010\n",
      "Epoch 76/100, Training Loss: 0.0010, Validation Loss: 0.0040\n",
      "Epoch 77/100, Training Loss: 0.0009, Validation Loss: 0.0010\n",
      "Epoch 78/100, Training Loss: 0.0041, Validation Loss: 0.0054\n",
      "Epoch 79/100, Training Loss: 0.0016, Validation Loss: 0.0016\n",
      "Epoch 80/100, Training Loss: 0.0007, Validation Loss: 0.0008\n",
      "Epoch 81/100, Training Loss: 0.0032, Validation Loss: 0.0011\n",
      "Epoch 82/100, Training Loss: 0.0007, Validation Loss: 0.0009\n",
      "Epoch 83/100, Training Loss: 0.0009, Validation Loss: 0.0008\n",
      "Epoch 84/100, Training Loss: 0.0027, Validation Loss: 0.0049\n",
      "Epoch 85/100, Training Loss: 0.0030, Validation Loss: 0.0008\n",
      "Epoch 86/100, Training Loss: 0.0006, Validation Loss: 0.0012\n",
      "Epoch 87/100, Training Loss: 0.0027, Validation Loss: 0.0014\n",
      "Epoch 88/100, Training Loss: 0.0021, Validation Loss: 0.0018\n",
      "Epoch 89/100, Training Loss: 0.0006, Validation Loss: 0.0008\n",
      "Epoch 90/100, Training Loss: 0.0040, Validation Loss: 0.0012\n",
      "Epoch 91/100, Training Loss: 0.0012, Validation Loss: 0.0008\n",
      "Epoch 92/100, Training Loss: 0.0006, Validation Loss: 0.0007\n",
      "Epoch 93/100, Training Loss: 0.0009, Validation Loss: 0.0011\n",
      "Epoch 94/100, Training Loss: 0.0009, Validation Loss: 0.0008\n",
      "Epoch 95/100, Training Loss: 0.0009, Validation Loss: 0.0012\n",
      "Epoch 96/100, Training Loss: 0.0007, Validation Loss: 0.0009\n",
      "Epoch 97/100, Training Loss: 0.0038, Validation Loss: 0.0015\n",
      "Epoch 98/100, Training Loss: 0.0027, Validation Loss: 0.0008\n",
      "Epoch 99/100, Training Loss: 0.0005, Validation Loss: 0.0007\n",
      "Epoch 100/100, Training Loss: 0.0006, Validation Loss: 0.0007\n"
     ]
    }
   ],
   "execution_count": 30
  },
  {
   "metadata": {},
   "cell_type": "markdown",
   "source": "### Visualizing training validation losses",
   "id": "3f051dd14c20c326"
  },
  {
   "metadata": {
    "ExecuteTime": {
     "end_time": "2024-11-15T16:14:42.011406Z",
     "start_time": "2024-11-15T16:14:41.852346Z"
    }
   },
   "cell_type": "code",
   "source": [
    "import matplotlib.pyplot as plt\n",
    "\n",
    "plt.plot(train_losses, label='Training Loss')\n",
    "plt.plot(val_losses, label='Validation Loss')\n",
    "plt.xlabel('Epoch')\n",
    "plt.ylabel('Loss')\n",
    "plt.legend()\n",
    "plt.show()"
   ],
   "id": "60c666d4e8699a59",
   "outputs": [
    {
     "data": {
      "text/plain": [
       "<Figure size 640x480 with 1 Axes>"
      ],
      "image/png": "[encoded data removed]"
     },
     "metadata": {},
     "output_type": "display_data"
    }
   ],
   "execution_count": 31
  },
  {
   "metadata": {},
   "cell_type": "markdown",
   "source": "### Compute predictions",
   "id": "888197ee7ace03f0"
  },
  {
   "metadata": {
    "ExecuteTime": {
     "end_time": "2024-11-15T16:14:42.078530Z",
     "start_time": "2024-11-15T16:14:42.013455Z"
    }
   },
   "cell_type": "code",
   "source": [
    "train_targets = train_df_prepared.iloc[:, 74:98]\n",
    "train_predictions = pd.DataFrame(model.predict(train_df_prepared.iloc[:, 0:74]))\n",
    "\n",
    "test_targets = test_df_prepared.iloc[:, 74:98]\n",
    "test_predictions = pd.DataFrame(model.predict(test_df_prepared.iloc[:, 0:74]))"
   ],
   "id": "4c9820f6e46cdbc0",
   "outputs": [],
   "execution_count": 32
  },
  {
   "metadata": {},
   "cell_type": "markdown",
   "source": "### Evaluate the model",
   "id": "96e4a6410d945003"
  },
  {
   "metadata": {
    "ExecuteTime": {
     "end_time": "2024-11-15T16:14:42.191775Z",
     "start_time": "2024-11-15T16:14:42.080543Z"
    }
   },
   "cell_type": "code",
   "source": [
    "# Initialize dictionaries to store metrics for each feature\n",
    "metrics_per_feature = {'Feature': [], 'MSE': [], 'MAPE': [], 'R2': []}\n",
    "\n",
    "# Loop through each target feature column and calculate metrics\n",
    "for i in range(train_targets.shape[1]):\n",
    "    # Calculate metrics for the training set\n",
    "    metrics_per_feature['Feature'].append(f'P_lag_{i}')\n",
    "    metrics_per_feature['MSE'].append(mean_squared_error(train_targets.iloc[:, i], train_predictions.iloc[:, i]))\n",
    "    metrics_per_feature['MAPE'].append(mean_absolute_percentage_error(train_targets.iloc[:, i], train_predictions.iloc[:, i]))\n",
    "    metrics_per_feature['R2'].append(r2_score(train_targets.iloc[:, i], train_predictions.iloc[:, i]))\n",
    "\n",
    "# Convert metrics to DataFrame\n",
    "train_metrics_df = pd.DataFrame(metrics_per_feature)\n",
    "\n",
    "# Calculate global metrics for the entire training set\n",
    "global_metrics = {\n",
    "    'Metric': ['Global MSE', 'Global MAPE', 'Global R2'],\n",
    "    'Value': [\n",
    "        float(mean_squared_error(train_targets.values.flatten(), train_predictions.values.flatten())),\n",
    "        float(mean_absolute_percentage_error(train_targets.values.flatten(), train_predictions.values.flatten())),\n",
    "        float(r2_score(train_targets.values.flatten(), train_predictions.values.flatten()))\n",
    "    ]\n",
    "}\n",
    "\n",
    "global_metrics_df = pd.DataFrame(global_metrics)\n",
    "\n",
    "# Repeat the same for the test set\n",
    "metrics_per_feature_test = {'Feature': [], 'MSE': [], 'MAPE': [], 'R2': []}\n",
    "\n",
    "for i in range(test_targets.shape[1]):\n",
    "    metrics_per_feature_test['Feature'].append(f'P_lag_{i}')\n",
    "    metrics_per_feature_test['MSE'].append(float(mean_squared_error(test_targets.iloc[:, i], test_predictions.iloc[:, i])))\n",
    "    metrics_per_feature_test['MAPE'].append(float(mean_absolute_percentage_error(test_targets.iloc[:, i], test_predictions.iloc[:, i])))\n",
    "    metrics_per_feature_test['R2'].append(float(r2_score(test_targets.iloc[:, i], test_predictions.iloc[:, i])))\n",
    "\n",
    "# Convert test metrics to DataFrame\n",
    "test_metrics_df = pd.DataFrame(metrics_per_feature_test)\n",
    "\n",
    "# Calculate global test metrics\n",
    "global_metrics_test = {\n",
    "    'Metric': ['Global Test MSE', 'Global Test MAPE', 'Global Test R2'],\n",
    "    'Value': [\n",
    "        float(mean_squared_error(test_targets.values.flatten(), test_predictions.values.flatten())),\n",
    "        float(mean_absolute_percentage_error(test_targets.values.flatten(), test_predictions.values.flatten())),\n",
    "        float(r2_score(test_targets.values.flatten(), test_predictions.values.flatten()))\n",
    "    ]\n",
    "}\n",
    "\n",
    "global_metrics_test_df = pd.DataFrame(global_metrics_test)\n",
    "\n",
    "# Display DataFrames\n",
    "print(\"Training Metrics Per Feature:\")\n",
    "print(train_metrics_df)\n",
    "\n",
    "print(\"\\nGlobal Training Metrics:\")\n",
    "print(global_metrics_df)\n",
    "\n",
    "print(\"\\nTest Metrics Per Feature:\")\n",
    "print(test_metrics_df)\n",
    "\n",
    "print(\"\\nGlobal Test Metrics:\")\n",
    "print(global_metrics_test_df)"
   ],
   "id": "65bd981cc373c3eb",
   "outputs": [
    {
     "name": "stdout",
     "output_type": "stream",
     "text": [
      "Training Metrics Per Feature:\n",
      "     Feature       MSE      MAPE        R2\n",
      "0    P_lag_0  0.000419  0.044627  0.992523\n",
      "1    P_lag_1  0.000431  0.044355  0.992325\n",
      "2    P_lag_2  0.000441  0.042894  0.992163\n",
      "3    P_lag_3  0.000479  0.048148  0.991502\n",
      "4    P_lag_4  0.000486  0.045355  0.991395\n",
      "5    P_lag_5  0.000397  0.042249  0.992960\n",
      "6    P_lag_6  0.000380  0.039259  0.993231\n",
      "7    P_lag_7  0.000399  0.042375  0.992866\n",
      "8    P_lag_8  0.000426  0.041690  0.992387\n",
      "9    P_lag_9  0.000414  0.041875  0.992626\n",
      "10  P_lag_10  0.000424  0.044568  0.992460\n",
      "11  P_lag_11  0.000517  0.049022  0.990809\n",
      "12  P_lag_12  0.000480  0.047238  0.991475\n",
      "13  P_lag_13  0.000488  0.047160  0.991329\n",
      "14  P_lag_14  0.000462  0.045106  0.991789\n",
      "15  P_lag_15  0.000450  0.042981  0.991997\n",
      "16  P_lag_16  0.000495  0.043196  0.991192\n",
      "17  P_lag_17  0.000485  0.042811  0.991406\n",
      "18  P_lag_18  0.000511  0.042853  0.990954\n",
      "19  P_lag_19  0.000526  0.043720  0.990681\n",
      "20  P_lag_20  0.000523  0.044292  0.990706\n",
      "21  P_lag_21  0.000524  0.047909  0.990708\n",
      "22  P_lag_22  0.000541  0.046739  0.990406\n",
      "23  P_lag_23  0.000533  0.045058  0.990502\n",
      "\n",
      "Global Training Metrics:\n",
      "        Metric     Value\n",
      "0   Global MSE  0.000468\n",
      "1  Global MAPE  0.044395\n",
      "2    Global R2  0.991682\n",
      "\n",
      "Test Metrics Per Feature:\n",
      "     Feature       MSE      MAPE        R2\n",
      "0    P_lag_0  0.002159  0.107049  0.958504\n",
      "1    P_lag_1  0.002849  0.112462  0.945244\n",
      "2    P_lag_2  0.003445  0.114324  0.933775\n",
      "3    P_lag_3  0.004494  0.131471  0.913604\n",
      "4    P_lag_4  0.005526  0.136705  0.893762\n",
      "5    P_lag_5  0.005886  0.132973  0.886810\n",
      "6    P_lag_6  0.006138  0.125781  0.881930\n",
      "7    P_lag_7  0.006687  0.135108  0.871335\n",
      "8    P_lag_8  0.006944  0.135899  0.866394\n",
      "9    P_lag_9  0.007061  0.140146  0.864217\n",
      "10  P_lag_10  0.007371  0.149503  0.858385\n",
      "11  P_lag_11  0.007642  0.157613  0.853338\n",
      "12  P_lag_12  0.007330  0.151097  0.859507\n",
      "13  P_lag_13  0.007185  0.150227  0.862474\n",
      "14  P_lag_14  0.007200  0.146413  0.862373\n",
      "15  P_lag_15  0.006863  0.141237  0.868927\n",
      "16  P_lag_16  0.006843  0.139761  0.869351\n",
      "17  P_lag_17  0.006671  0.140470  0.872620\n",
      "18  P_lag_18  0.006544  0.139290  0.875015\n",
      "19  P_lag_19  0.006668  0.144090  0.872606\n",
      "20  P_lag_20  0.006369  0.140184  0.878279\n",
      "21  P_lag_21  0.006217  0.144021  0.881163\n",
      "22  P_lag_22  0.006097  0.141057  0.883451\n",
      "23  P_lag_23  0.005778  0.131949  0.889536\n",
      "\n",
      "Global Test Metrics:\n",
      "             Metric     Value\n",
      "0   Global Test MSE  0.006082\n",
      "1  Global Test MAPE  0.137035\n",
      "2    Global Test R2  0.883418\n"
     ]
    }
   ],
   "execution_count": 33
  },
  {
   "metadata": {},
   "cell_type": "markdown",
   "source": [
    "**NB: the model is not trained on the whole training set since 10% of the data is used as validation set.**\n",
    "\n",
    "This procedure can be applied when searching for best set of hyperparameters. Once the best set is found, the model can be trained on the whole training set. "
   ],
   "id": "792eff848903e4c2"
  }
 ],
 "metadata": {
  "author": "BAEDA Lab - Politecnico di Torino",
  "date": "November 15, 2024",
  "kernelspec": {
   "display_name": "Python 3 (ipykernel)",
   "language": "python",
   "name": "python3"
  },
  "language_info": {
   "codemirror_mode": {
    "name": "ipython",
    "version": 3
   },
   "file_extension": ".py",
   "mimetype": "text/x-python",
   "name": "python",
   "nbconvert_exporter": "python",
   "pygments_lexer": "ipython3",
   "version": "3.12.0"
  },
  "title": "Exercise 4 - Part 3: Advanced Load Forecasting"
 },
 "nbformat": 4,
 "nbformat_minor": 5
}
