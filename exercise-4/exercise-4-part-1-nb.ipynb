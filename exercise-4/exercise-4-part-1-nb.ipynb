{
 "cells": [
  {
   "metadata": {},
   "cell_type": "markdown",
   "source": [
    "**Gestione Energetica ed Automazione negli Edifici (GEAE) A.A. 2024/2025**\n",
    "\n",
    "*Tutto il materiale didattico messo a disposizione degli studenti (compresi script, markdown, presentazioni, video e Virtual Classroom) è da utilizzarsi esclusivamente per scopi didattici e nell’ambito del corso di “gestione energetica e automazione negli edifici”. È vietata ogni forma di utilizzo diverso, redistribuzione e pubblicazione on line. Per ogni eventuale dubbio o richiesta contattare il titolare del corso prof. Alfonso Capozzoli a alfonso.capozzoli@polito.it*\n",
    "\n",
    "# Introduction to Deep Neural Networks with PyTorch\n",
    "\n",
    "Install the library `pytorch` before proceeding. Open terminal and run the following command:\n",
    "\n",
    "`pip3 install torch`\n",
    "\n",
    "## Multi-Layer Perceptron (MLP) in PyTorch\n",
    "\n",
    "### Importing Libraries"
   ],
   "id": "b06d7ec0cab7e148"
  },
  {
   "metadata": {
    "ExecuteTime": {
     "end_time": "2024-11-15T09:22:53.365964Z",
     "start_time": "2024-11-15T09:22:49.504251Z"
    }
   },
   "cell_type": "code",
   "source": [
    "import torch\n",
    "import torch.nn as nn\n",
    "import torch.optim as optim\n",
    "import torch.nn.functional as F\n",
    "\n",
    "from torch.utils.data import DataLoader, TensorDataset"
   ],
   "id": "9cbf5fbefa3694c",
   "outputs": [],
   "execution_count": 1
  },
  {
   "metadata": {},
   "cell_type": "markdown",
   "source": "### Creating MLP Class",
   "id": "3435959e9a804a32"
  },
  {
   "metadata": {
    "ExecuteTime": {
     "end_time": "2024-11-15T09:22:53.371190Z",
     "start_time": "2024-11-15T09:22:53.365964Z"
    }
   },
   "cell_type": "code",
   "source": [
    "class MLP(nn.Module):\n",
    "    def __init__(self, input_size, hidden_size, output_size):\n",
    "        super(MLP, self).__init__()\n",
    "        self.fc1 = nn.Linear(input_size, hidden_size)\n",
    "        self.fc2 = nn.Linear(hidden_size, hidden_size)\n",
    "        self.fc3 = nn.Linear(hidden_size, output_size)\n",
    "        \n",
    "    def forward(self, x):\n",
    "        x = torch.tanh(self.fc1(x))\n",
    "        x = torch.tanh(self.fc2(x))\n",
    "        x = self.fc3(x)\n",
    "        return x"
   ],
   "id": "77c169ff6f5c8125",
   "outputs": [],
   "execution_count": 2
  },
  {
   "metadata": {},
   "cell_type": "markdown",
   "source": [
    " **`class MLP(nn.Module):`**\n",
    "- This line defines a new class `MLP`, which stands for Multi-Layer Perceptron. It inherits from **`nn.Module`**, the base class for all neural network modules in PyTorch.\n",
    "- In this class, we will define the architecture of the MLP model.\n",
    "- The `__init__` method is the constructor where we define the layers of the MLP.\n",
    "- The `forward` method defines how the input data passes through the network layers.\n",
    "- The `MLP` model consists of two fully connected layers: the first layer takes the input and transforms it using the specified number of hidden units, and the second layer produces the final output.\n",
    "- The activation function used between the layers is ReLU (Rectified Linear Unit), which introduces non-linearity, allowing the model to learn more complex functions.\n"
   ],
   "id": "5f725ae99c10c55b"
  },
  {
   "metadata": {},
   "cell_type": "markdown",
   "source": "### Creating an Instance of the MLP Class",
   "id": "50b94db5d3e89090"
  },
  {
   "metadata": {
    "ExecuteTime": {
     "end_time": "2024-11-15T09:22:53.382818Z",
     "start_time": "2024-11-15T09:22:53.372200Z"
    }
   },
   "cell_type": "code",
   "source": "model = MLP(input_size=1, hidden_size=16, output_size=1)",
   "id": "5ceba20bb9513682",
   "outputs": [],
   "execution_count": 3
  },
  {
   "metadata": {},
   "cell_type": "markdown",
   "source": [
    "**`model = MLP(input_size=1, hidden_size=16, output_size=1)`**\n",
    "- This line creates an instance of the `MLP` class with an input size of `1`, a hidden layer with `16` neurons, and an output size of `1`.\n",
    "- This model is a simple feed-forward neural network that is suitable for basic regression tasks."
   ],
   "id": "1e82eb52597a3c3e"
  },
  {
   "metadata": {},
   "cell_type": "markdown",
   "source": "### Printing the Model Architecture",
   "id": "3352365fa47df2e8"
  },
  {
   "metadata": {
    "ExecuteTime": {
     "end_time": "2024-11-15T09:22:53.386829Z",
     "start_time": "2024-11-15T09:22:53.383834Z"
    }
   },
   "cell_type": "code",
   "source": "print(model)",
   "id": "c18623c063f19482",
   "outputs": [
    {
     "name": "stdout",
     "output_type": "stream",
     "text": [
      "MLP(\n",
      "  (fc1): Linear(in_features=1, out_features=16, bias=True)\n",
      "  (fc2): Linear(in_features=16, out_features=16, bias=True)\n",
      "  (fc3): Linear(in_features=16, out_features=1, bias=True)\n",
      ")\n"
     ]
    }
   ],
   "execution_count": 4
  },
  {
   "metadata": {},
   "cell_type": "markdown",
   "source": "### Defining Loss Function and Optimizer",
   "id": "b1166331127c41de"
  },
  {
   "metadata": {
    "ExecuteTime": {
     "end_time": "2024-11-15T09:22:53.391426Z",
     "start_time": "2024-11-15T09:22:53.388836Z"
    }
   },
   "cell_type": "code",
   "source": "criterion = nn.MSELoss()",
   "id": "539430c1617d5fe2",
   "outputs": [],
   "execution_count": 5
  },
  {
   "metadata": {},
   "cell_type": "markdown",
   "source": [
    "**`criterion = nn.MSELoss()`**\n",
    "- This line creates an instance of `nn.MSELoss`, which represents the Mean Squared Error loss function.\n",
    "- This is used to measure the difference between predicted values and actual values during training."
   ],
   "id": "fed8fc4614a63ece"
  },
  {
   "metadata": {
    "ExecuteTime": {
     "end_time": "2024-11-15T09:22:56.932745Z",
     "start_time": "2024-11-15T09:22:53.392434Z"
    }
   },
   "cell_type": "code",
   "source": "optimizer = optim.RMSprop(model.parameters(), lr=0.01)",
   "id": "df6d302b0a585626",
   "outputs": [],
   "execution_count": 6
  },
  {
   "metadata": {},
   "cell_type": "markdown",
   "source": [
    "**`optimizer = optim.SGD(model.parameters(), lr=0.01)`**\n",
    "- This line creates an optimizer (`SGD`) for training the model, which uses the Stochastic Gradient Descent algorithm.\n",
    "- **`lr=0.01`** sets the learning rate, which controls how much the model's parameters are adjusted with each step.\n"
   ],
   "id": "28e2cd5cb9e75674"
  },
  {
   "metadata": {
    "ExecuteTime": {
     "end_time": "2024-11-15T09:23:09.335031Z",
     "start_time": "2024-11-15T09:22:56.934751Z"
    }
   },
   "cell_type": "code",
   "source": [
    "epochs = 100  # Number of epochs for training\n",
    "\n",
    "# Create random input and target data\n",
    "inputs = torch.linspace(-10, 10, 1000).view(-1, 1)  # 1000 samples between -10 and 10\n",
    "targets = 0.5 * inputs + torch.sin(inputs)  # targets have a more complex relationship with input\n",
    "\n",
    "batch_size = 18\n",
    "\n",
    "# Create a dataset from inputs and targets\n",
    "dataset = TensorDataset(inputs, targets)\n",
    "\n",
    "# Create DataLoader to handle batching\n",
    "dataloader = DataLoader(dataset, batch_size=batch_size, shuffle=True)\n",
    "\n",
    "for epoch in range(epochs):\n",
    "    for batch_inputs, batch_targets in dataloader:\n",
    "        # Forward pass\n",
    "        outputs = model(batch_inputs)\n",
    "        loss = criterion(outputs, batch_targets)\n",
    "\n",
    "        # Zero the parameter gradients\n",
    "        optimizer.zero_grad()\n",
    "\n",
    "        # Backward pass\n",
    "        loss.backward()\n",
    "\n",
    "        # Update weights\n",
    "        optimizer.step()\n",
    "\n",
    "    # Print loss every 10 epochs\n",
    "    if (epoch+1) % 10 == 0:\n",
    "        print(f'Epoch [{epoch+1}/{epochs}], Loss: {loss.item():.4f}')\n"
   ],
   "id": "990a0ee136a2a6ed",
   "outputs": [
    {
     "name": "stdout",
     "output_type": "stream",
     "text": [
      "Epoch [10/100], Loss: 0.0321\n",
      "Epoch [20/100], Loss: 0.0308\n",
      "Epoch [30/100], Loss: 0.0347\n",
      "Epoch [40/100], Loss: 0.0059\n",
      "Epoch [50/100], Loss: 0.0133\n",
      "Epoch [60/100], Loss: 0.1783\n",
      "Epoch [70/100], Loss: 0.0236\n",
      "Epoch [80/100], Loss: 0.0065\n",
      "Epoch [90/100], Loss: 0.0121\n",
      "Epoch [100/100], Loss: 0.0257\n"
     ]
    }
   ],
   "execution_count": 7
  },
  {
   "metadata": {
    "ExecuteTime": {
     "end_time": "2024-11-15T09:23:09.355603Z",
     "start_time": "2024-11-15T09:23:09.335031Z"
    }
   },
   "cell_type": "code",
   "source": [
    "# predictions on input data\n",
    "predictions = model(inputs)"
   ],
   "id": "fc91e5231e6d1849",
   "outputs": [],
   "execution_count": 8
  },
  {
   "metadata": {
    "ExecuteTime": {
     "end_time": "2024-11-15T09:23:10.238423Z",
     "start_time": "2024-11-15T09:23:09.355603Z"
    }
   },
   "cell_type": "code",
   "source": [
    "# plot predictions vs targets\n",
    "import matplotlib.pyplot as plt\n",
    "\n",
    "plt.figure(figsize=(8, 5))\n",
    "plt.scatter(inputs, targets, label='Targets')\n",
    "plt.scatter(inputs, predictions.detach().numpy(), label='Predictions')\n",
    "plt.xlabel('Inputs')\n",
    "plt.ylabel('Outputs')\n",
    "plt.title('Predictions vs Targets')\n",
    "plt.legend()\n",
    "plt.show()"
   ],
   "id": "30d577305fef0ac5",
   "outputs": [
    {
     "data": {
      "text/plain": [
       "<Figure size 800x500 with 1 Axes>"
      ],
      "image/png": "[encoded data removed]"
     },
     "metadata": {},
     "output_type": "display_data"
    }
   ],
   "execution_count": 9
  }
 ],
 "metadata": {
  "author": "BAEDA Lab - Politecnico di Torino",
  "date": "November 15, 2024",
  "kernelspec": {
   "display_name": "Python 3 (ipykernel)",
   "language": "python",
   "name": "python3"
  },
  "language_info": {
   "codemirror_mode": {
    "name": "ipython",
    "version": 3
   },
   "file_extension": ".py",
   "mimetype": "text/x-python",
   "name": "python",
   "nbconvert_exporter": "python",
   "pygments_lexer": "ipython3",
   "version": "3.12.0"
  },
  "title": "Exercise 4 - Part 1: Introduction to PyTorch"
 },
 "nbformat": 4,
 "nbformat_minor": 5
}
